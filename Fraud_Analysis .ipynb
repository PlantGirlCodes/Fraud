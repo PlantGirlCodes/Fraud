{
 "cells": [
  {
   "cell_type": "markdown",
   "id": "dfa09112",
   "metadata": {},
   "source": [
    "# Data Analysis Task\n",
    "\n",
    "## Basic terminology:\n",
    "-- Fraud - the use of a stolen credit card to purchase online\n",
    "-- A chargeback (CHB) - a charge that is returned to a payment card after a customer\n",
    "successfully disputes an item on their account transactions report\n",
    "COMPANY business model:\n",
    "We collect a small fraction (fee) of the amount of all approved orders and give a chargeback guarantee for the full order amount if an order we approve comes back as a chargeback.\n",
    "\n",
    "## COMPANY decision-engine:\n",
    "All orders are given a score by the model (“classification score”)\n",
    "For each merchant, we define a threshold between 0 to 1 for each model.\n",
    "-- When the classification score is above the threshold, the model’s action will be “approve” and order will be auto-approved\n",
    "-- When the classification score is below the threshold, the model’s action will be “decline” and the order will be auto-declined\n",
    "The following dataset consists of 40,825 orders, classifications for these orders by a single model, and a few of the data points we collect for each order.\n",
    "\n",
    "\n",
    "\n",
    "\n",
    "## Data Dictionary \n",
    "- order_id: a unique identifier for an order\n",
    "- order_date: the date in which the order was submitted to Riskified\n",
    "- order_status : the actual status of an order (in this dataset we included only approvals\n",
    "and chargebacks)\n",
    "- price: order total amount\n",
    "- digital_product: whether the product is digital or tangible\n",
    "- customer_account_age: the interval between the date the account was created and the\n",
    "order was placed\n",
    "- order_source: the type of device used to place the order (web/mobile device\n",
    "app/phone/etc.)\n",
    "- billing_zip: the zip code filled in the billing details\n",
    "- shipping_name_length: shipping name number of characters\n",
    "- classification_score: the score given by the model\n",
    "\n",
    "## Task \n",
    "1. Rely exclusively on model scores using COMPANY decision-engine, and set a decline threshold that will provide a 90% approval rate\n",
    "2. Plot the model scores distribution\n",
    "3. Assuming we aim at a proportion of 50% between the CHB cost and the total revenue (sum amount of CHBs divided by the total revenue), what would have to be the fee based Riskified’s business model?\n",
    "4. In the dataset, there’s a column indicating whether the purchased goods are digital or tangible. What can you say about the risk level of each segment?\n",
    "5. Free exploration - Provide 2-3 interesting breakdowns or insights.\n",
    "\n"
   ]
  },
  {
   "cell_type": "code",
   "execution_count": 1,
   "id": "11c987cd",
   "metadata": {},
   "outputs": [],
   "source": [
    "# import libraries\n",
    "import pandas as pd\n",
    "import matplotlib.pyplot as plt\n",
    "import numpy as np\n",
    "import seaborn as sns"
   ]
  },
  {
   "cell_type": "code",
   "execution_count": 2,
   "id": "ea355716",
   "metadata": {},
   "outputs": [
    {
     "data": {
      "text/html": [
       "<div>\n",
       "<style scoped>\n",
       "    .dataframe tbody tr th:only-of-type {\n",
       "        vertical-align: middle;\n",
       "    }\n",
       "\n",
       "    .dataframe tbody tr th {\n",
       "        vertical-align: top;\n",
       "    }\n",
       "\n",
       "    .dataframe thead th {\n",
       "        text-align: right;\n",
       "    }\n",
       "</style>\n",
       "<table border=\"1\" class=\"dataframe\">\n",
       "  <thead>\n",
       "    <tr style=\"text-align: right;\">\n",
       "      <th></th>\n",
       "      <th>order_id</th>\n",
       "      <th>order_date</th>\n",
       "      <th>order_status</th>\n",
       "      <th>price</th>\n",
       "      <th>digital_product</th>\n",
       "      <th>customer_account_age</th>\n",
       "      <th>order_source</th>\n",
       "      <th>billing_zip</th>\n",
       "      <th>shipping_name_length</th>\n",
       "      <th>classification_score</th>\n",
       "    </tr>\n",
       "  </thead>\n",
       "  <tbody>\n",
       "    <tr>\n",
       "      <th>0</th>\n",
       "      <td>906967102</td>\n",
       "      <td>2019-06-01</td>\n",
       "      <td>approved</td>\n",
       "      <td>213.88</td>\n",
       "      <td>False</td>\n",
       "      <td>0</td>\n",
       "      <td>web</td>\n",
       "      <td>33062</td>\n",
       "      <td>13</td>\n",
       "      <td>0.999219</td>\n",
       "    </tr>\n",
       "    <tr>\n",
       "      <th>1</th>\n",
       "      <td>906987974</td>\n",
       "      <td>2019-06-01</td>\n",
       "      <td>approved</td>\n",
       "      <td>50.00</td>\n",
       "      <td>True</td>\n",
       "      <td>0</td>\n",
       "      <td>mobile_app</td>\n",
       "      <td>48317</td>\n",
       "      <td>0</td>\n",
       "      <td>0.995886</td>\n",
       "    </tr>\n",
       "    <tr>\n",
       "      <th>2</th>\n",
       "      <td>906994260</td>\n",
       "      <td>2019-06-01</td>\n",
       "      <td>approved</td>\n",
       "      <td>100.00</td>\n",
       "      <td>True</td>\n",
       "      <td>328</td>\n",
       "      <td>web</td>\n",
       "      <td>92124</td>\n",
       "      <td>0</td>\n",
       "      <td>0.966901</td>\n",
       "    </tr>\n",
       "    <tr>\n",
       "      <th>3</th>\n",
       "      <td>906997653</td>\n",
       "      <td>2019-06-01</td>\n",
       "      <td>approved</td>\n",
       "      <td>25.00</td>\n",
       "      <td>True</td>\n",
       "      <td>1371</td>\n",
       "      <td>web</td>\n",
       "      <td>95448</td>\n",
       "      <td>0</td>\n",
       "      <td>0.999854</td>\n",
       "    </tr>\n",
       "    <tr>\n",
       "      <th>4</th>\n",
       "      <td>907408483</td>\n",
       "      <td>2019-06-01</td>\n",
       "      <td>approved</td>\n",
       "      <td>2035.76</td>\n",
       "      <td>False</td>\n",
       "      <td>139</td>\n",
       "      <td>web</td>\n",
       "      <td>61107</td>\n",
       "      <td>17</td>\n",
       "      <td>0.999965</td>\n",
       "    </tr>\n",
       "  </tbody>\n",
       "</table>\n",
       "</div>"
      ],
      "text/plain": [
       "    order_id  order_date order_status    price  digital_product  \\\n",
       "0  906967102  2019-06-01     approved   213.88            False   \n",
       "1  906987974  2019-06-01     approved    50.00             True   \n",
       "2  906994260  2019-06-01     approved   100.00             True   \n",
       "3  906997653  2019-06-01     approved    25.00             True   \n",
       "4  907408483  2019-06-01     approved  2035.76            False   \n",
       "\n",
       "   customer_account_age order_source billing_zip  shipping_name_length  \\\n",
       "0                     0          web       33062                    13   \n",
       "1                     0   mobile_app       48317                     0   \n",
       "2                   328          web       92124                     0   \n",
       "3                  1371          web       95448                     0   \n",
       "4                   139          web       61107                    17   \n",
       "\n",
       "   classification_score  \n",
       "0              0.999219  \n",
       "1              0.995886  \n",
       "2              0.966901  \n",
       "3              0.999854  \n",
       "4              0.999965  "
      ]
     },
     "execution_count": 2,
     "metadata": {},
     "output_type": "execute_result"
    }
   ],
   "source": [
    "# read orig csv into pandas dataframe and make working copy\n",
    "original = pd.read_csv('fraud_dataset.csv')\n",
    "df = original.copy()\n",
    "df.head()"
   ]
  },
  {
   "cell_type": "markdown",
   "id": "5d752f29",
   "metadata": {},
   "source": [
    "## EDA "
   ]
  },
  {
   "cell_type": "code",
   "execution_count": 3,
   "id": "0459c7cd",
   "metadata": {
    "scrolled": true
   },
   "outputs": [
    {
     "name": "stdout",
     "output_type": "stream",
     "text": [
      "<class 'pandas.core.frame.DataFrame'>\n",
      "RangeIndex: 40825 entries, 0 to 40824\n",
      "Data columns (total 10 columns):\n",
      " #   Column                Non-Null Count  Dtype  \n",
      "---  ------                --------------  -----  \n",
      " 0   order_id              40825 non-null  int64  \n",
      " 1   order_date            40825 non-null  object \n",
      " 2   order_status          40825 non-null  object \n",
      " 3   price                 40825 non-null  float64\n",
      " 4   digital_product       40825 non-null  bool   \n",
      " 5   customer_account_age  40825 non-null  int64  \n",
      " 6   order_source          40825 non-null  object \n",
      " 7   billing_zip           40825 non-null  object \n",
      " 8   shipping_name_length  40825 non-null  int64  \n",
      " 9   classification_score  40825 non-null  float64\n",
      "dtypes: bool(1), float64(2), int64(3), object(4)\n",
      "memory usage: 2.8+ MB\n"
     ]
    }
   ],
   "source": [
    "# verify dataset number of rows, col, check for nulls, confirm datatypes\n",
    "df.info()"
   ]
  },
  {
   "cell_type": "markdown",
   "id": "8ac912a7",
   "metadata": {},
   "source": [
    "notes\n",
    "- .info confirms size of dataset size (40,825)\n",
    "- no nulls\n",
    "- data types match expected content\n",
    "- order_date not datetime\n",
    "- shipping_name_length does not look relevent for this analysis "
   ]
  },
  {
   "cell_type": "markdown",
   "id": "d96eeeee",
   "metadata": {},
   "source": [
    "###### EDA: Object Features"
   ]
  },
  {
   "cell_type": "code",
   "execution_count": 4,
   "id": "53f46a4f",
   "metadata": {},
   "outputs": [
    {
     "name": "stdout",
     "output_type": "stream",
     "text": [
      "order_status 2 ['approved' 'chargeback']\n",
      "order_source 2 ['web' 'mobile_app']\n",
      "billing_zip 10328\n"
     ]
    }
   ],
   "source": [
    "# count number of unique items in selected objects and print unique items if less than 20 \n",
    "object_list = ['order_status', 'order_source', 'billing_zip']\n",
    "for item in object_list:\n",
    "    if df[item].nunique() < 20:\n",
    "        print(item, df[item].nunique(),df[item].unique())\n",
    "    else:\n",
    "        print(item, df[item].nunique())"
   ]
  },
  {
   "cell_type": "markdown",
   "id": "b4ce2b80",
   "metadata": {},
   "source": [
    "- order status has only 2 unqique values: approved and chargeback\n",
    "- order source has only 2 unique values: web and mobile "
   ]
  },
  {
   "cell_type": "code",
   "execution_count": 5,
   "id": "5d24c238",
   "metadata": {},
   "outputs": [
    {
     "name": "stdout",
     "output_type": "stream",
     "text": [
      "order_status             order_status\n",
      "approved           40465\n",
      "chargeback           360\n",
      "order_status             order_status\n",
      "approved        0.991182\n",
      "chargeback      0.008818\n",
      "order_source             order_source\n",
      "web                40151\n",
      "mobile_app           674\n",
      "order_source             order_source\n",
      "web             0.983491\n",
      "mobile_app      0.016509\n"
     ]
    }
   ],
   "source": [
    "# return count and % of unique values in selected objects (order_status and order_source)\n",
    "for item in object_list:\n",
    "    if df[item].nunique() < 20:\n",
    "        print(item, df[item].value_counts().to_frame())\n",
    "        print(item, df[item].value_counts(normalize=True).to_frame())"
   ]
  },
  {
   "cell_type": "markdown",
   "id": "553d5c9e",
   "metadata": {},
   "source": [
    "**notes on selected object fields**\n",
    "- billing zips over 10K unique values - not likely to use without further analysis \n",
    "- order status and order source each have 2 unique selections \n",
    "- 99% (40,151) of all order are approved (1% chargebacks)\n",
    "- 98% of all orders: web orders (2% mobile)"
   ]
  },
  {
   "cell_type": "code",
   "execution_count": 6,
   "id": "b26cd9f1",
   "metadata": {},
   "outputs": [
    {
     "name": "stdout",
     "output_type": "stream",
     "text": [
      "total orders: 40,825\n",
      "approval count: 40,465 (99.12%)\n",
      "chargeback count: 360 (0.88%)\n"
     ]
    }
   ],
   "source": [
    "# additional eda around approvals/chargebacks as a proportion of total \n",
    "# count of total orders using rows\n",
    "\n",
    "total_orders = df.shape[0]\n",
    "print ('total orders: {:,d}'.format(total_orders))\n",
    "\n",
    "# count of orders approved /chargebacks\n",
    "approval_count = df['order_status'].value_counts()['approved']\n",
    "chargeback_count = df['order_status'].value_counts()['chargeback']\n",
    "\n",
    "#approved_percent = df['order_status'].value_counts(normalize=True)['approved']\n",
    "#chargeback_percent = df['order_status'].value_counts(normalize=True)['chargeback']\n",
    "approved_percent = approval_count/total_orders *100\n",
    "chargeback_percent = chargeback_count/total_orders *100\n",
    "\n",
    "# print results\n",
    "print(\"approval count: {:,d} ({:.2f}%)\".format(approval_count, approved_percent))\n",
    "print(\"chargeback count: {:,d} ({:.2f}%)\".format(chargeback_count, chargeback_percent))\n"
   ]
  },
  {
   "cell_type": "markdown",
   "id": "233cb573",
   "metadata": {},
   "source": [
    "###### EDA on Integer features "
   ]
  },
  {
   "cell_type": "code",
   "execution_count": 7,
   "id": "e8ff8ee4",
   "metadata": {},
   "outputs": [
    {
     "name": "stdout",
     "output_type": "stream",
     "text": [
      "Minimum customer account age: -3 days (-0.01 years)\n",
      "Maximum customer account age: 6298 days (17.25 years)\n",
      "Mean customer account age: 736.80 days (2.02 years)\n"
     ]
    }
   ],
   "source": [
    "# Calculate the minimum, maximum, and mean customer account age in days and years\n",
    "min_customer_age = df.customer_account_age.min()\n",
    "max_customer_age = df.customer_account_age.max()\n",
    "mean_customer_age = df.customer_account_age.mean()\n",
    "\n",
    "# Print the results in both days and years\n",
    "print('Minimum customer account age: {:.0f} days ({:.2f} years)'.format(min_customer_age, min_customer_age/365))\n",
    "print('Maximum customer account age: {:.0f} days ({:.2f} years)'.format(max_customer_age, max_customer_age/365))\n",
    "print('Mean customer account age: {:.2f} days ({:.2f} years)'.format(mean_customer_age, mean_customer_age/365))\n"
   ]
  },
  {
   "cell_type": "code",
   "execution_count": 8,
   "id": "ea3e7d6c",
   "metadata": {},
   "outputs": [
    {
     "name": "stdout",
     "output_type": "stream",
     "text": [
      "start order date:  2019-06-01\n",
      "end order date:  2019-07-01\n"
     ]
    }
   ],
   "source": [
    "start_order_date = df.order_date.min()\n",
    "end_order_date = df.order_date.max()\n",
    "print('start order date: ', start_order_date)\n",
    "print('end order date: ', end_order_date)"
   ]
  },
  {
   "cell_type": "code",
   "execution_count": 9,
   "id": "a6e0cb0a",
   "metadata": {},
   "outputs": [
    {
     "name": "stdout",
     "output_type": "stream",
     "text": [
      "min_price: $0\n",
      "max_price: $11,033\n",
      "mean_price: $396\n"
     ]
    }
   ],
   "source": [
    "min_price = df.price.min()\n",
    "max_price = df.price.max()\n",
    "mean_price = df.price.mean()\n",
    "print('min_price: ${:.0f}'.format(min_price))\n",
    "print('max_price: ${:,.0f}'.format(max_price))\n",
    "print('mean_price: ${:.0f}'.format(mean_price))"
   ]
  },
  {
   "cell_type": "markdown",
   "id": "cd89fea3",
   "metadata": {},
   "source": [
    "**Notes on integer fields**\n",
    "- customer acount age \n",
    "    - check negative min age - perhaps it is possible to order before \n",
    "     creating account\n",
    "    - metric assumued to be days\n",
    "    - avg customer acount age: 736 days / 2.02 years\n",
    "- date ordered\n",
    "    - can be transformed to datetime\n",
    "    - one month of data\n",
    "- price \n",
    "    - avg order $396"
   ]
  },
  {
   "cell_type": "markdown",
   "id": "c33a5aad",
   "metadata": {},
   "source": [
    "**Price EDA**"
   ]
  },
  {
   "cell_type": "code",
   "execution_count": 10,
   "id": "2a9c2ccc",
   "metadata": {},
   "outputs": [
    {
     "data": {
      "image/png": "[encoded data removed]",
      "text/plain": [
       "<Figure size 1440x144 with 1 Axes>"
      ]
     },
     "metadata": {
      "needs_background": "light"
     },
     "output_type": "display_data"
    },
    {
     "data": {
      "text/html": [
       "<div>\n",
       "<style scoped>\n",
       "    .dataframe tbody tr th:only-of-type {\n",
       "        vertical-align: middle;\n",
       "    }\n",
       "\n",
       "    .dataframe tbody tr th {\n",
       "        vertical-align: top;\n",
       "    }\n",
       "\n",
       "    .dataframe thead th {\n",
       "        text-align: right;\n",
       "    }\n",
       "</style>\n",
       "<table border=\"1\" class=\"dataframe\">\n",
       "  <thead>\n",
       "    <tr style=\"text-align: right;\">\n",
       "      <th></th>\n",
       "      <th>price</th>\n",
       "    </tr>\n",
       "  </thead>\n",
       "  <tbody>\n",
       "    <tr>\n",
       "      <th>count</th>\n",
       "      <td>40825.0</td>\n",
       "    </tr>\n",
       "    <tr>\n",
       "      <th>mean</th>\n",
       "      <td>396.0</td>\n",
       "    </tr>\n",
       "    <tr>\n",
       "      <th>std</th>\n",
       "      <td>772.0</td>\n",
       "    </tr>\n",
       "    <tr>\n",
       "      <th>min</th>\n",
       "      <td>0.0</td>\n",
       "    </tr>\n",
       "    <tr>\n",
       "      <th>25%</th>\n",
       "      <td>35.0</td>\n",
       "    </tr>\n",
       "    <tr>\n",
       "      <th>50%</th>\n",
       "      <td>82.0</td>\n",
       "    </tr>\n",
       "    <tr>\n",
       "      <th>75%</th>\n",
       "      <td>280.0</td>\n",
       "    </tr>\n",
       "    <tr>\n",
       "      <th>max</th>\n",
       "      <td>11033.0</td>\n",
       "    </tr>\n",
       "  </tbody>\n",
       "</table>\n",
       "</div>"
      ],
      "text/plain": [
       "         price\n",
       "count  40825.0\n",
       "mean     396.0\n",
       "std      772.0\n",
       "min        0.0\n",
       "25%       35.0\n",
       "50%       82.0\n",
       "75%      280.0\n",
       "max    11033.0"
      ]
     },
     "execution_count": 10,
     "metadata": {},
     "output_type": "execute_result"
    }
   ],
   "source": [
    "# create price boxplot \n",
    "fig, ax = plt.subplots(figsize=(20, 2))\n",
    "ax.boxplot(df['price'], vert=False)\n",
    "\n",
    "# label\n",
    "plt.title('Distribution of Price')\n",
    "plt.xlabel('Price')\n",
    "plt.show()\n",
    "\n",
    "#describe (summary stats on price)\n",
    "df.price.describe().round().to_frame()\n"
   ]
  },
  {
   "cell_type": "code",
   "execution_count": 11,
   "id": "c6d54e0d",
   "metadata": {},
   "outputs": [
    {
     "name": "stdout",
     "output_type": "stream",
     "text": [
      "82.44\n"
     ]
    }
   ],
   "source": [
    "print(df['price'].median())"
   ]
  },
  {
   "cell_type": "markdown",
   "id": "ae3b91fd",
   "metadata": {},
   "source": [
    "**Price Distribution (Box Plot)**\n",
    "* box represents the interquartile range (IQR) - middle 50% of the data\n",
    "* lower edge of box - 25th percentile (Q1)\n",
    "* upper edge of box - 75th percentile (Q3)\n",
    "* horizontal line in box - median (50th percentile) \n",
    "* whiskers - min and max values that are within 1.5 times the IQR from box edge \n",
    "* outliers - data points outside the range \n",
    "* 75% of all items in dataset under $280 price\n",
    "\n",
    "* median price $82\n"
   ]
  },
  {
   "cell_type": "code",
   "execution_count": 12,
   "id": "8598e494",
   "metadata": {},
   "outputs": [
    {
     "data": {
      "image/png": "[encoded data removed]",
      "text/plain": [
       "<Figure size 432x288 with 2 Axes>"
      ]
     },
     "metadata": {
      "needs_background": "light"
     },
     "output_type": "display_data"
    }
   ],
   "source": [
    "# price distribution by order status \n",
    "df.hist(column='price', by = 'order_status', color= 'magenta',bins=50)\n",
    "plt.ylabel('count')\n",
    "plt.xlabel('price')\n",
    "plt.show()"
   ]
  },
  {
   "cell_type": "code",
   "execution_count": 13,
   "id": "dbfc5494",
   "metadata": {},
   "outputs": [
    {
     "name": "stdout",
     "output_type": "stream",
     "text": [
      "86.56% of orders are priced under $1000\n"
     ]
    }
   ],
   "source": [
    "# orders with a price under $1000\n",
    "under_1000 = len(df[df['price'] < 1000])/ total_orders *100\n",
    "\n",
    "print('{:.2f}% of orders are priced under $1000'.format(under_1000))"
   ]
  },
  {
   "cell_type": "code",
   "execution_count": 16,
   "id": "17c87a1f",
   "metadata": {},
   "outputs": [
    {
     "data": {
      "text/html": [
       "<div>\n",
       "<style scoped>\n",
       "    .dataframe tbody tr th:only-of-type {\n",
       "        vertical-align: middle;\n",
       "    }\n",
       "\n",
       "    .dataframe tbody tr th {\n",
       "        vertical-align: top;\n",
       "    }\n",
       "\n",
       "    .dataframe thead tr th {\n",
       "        text-align: left;\n",
       "    }\n",
       "\n",
       "    .dataframe thead tr:last-of-type th {\n",
       "        text-align: right;\n",
       "    }\n",
       "</style>\n",
       "<table border=\"1\" class=\"dataframe\">\n",
       "  <thead>\n",
       "    <tr>\n",
       "      <th></th>\n",
       "      <th colspan=\"8\" halign=\"left\">describe</th>\n",
       "      <th>sum</th>\n",
       "    </tr>\n",
       "    <tr>\n",
       "      <th></th>\n",
       "      <th>25%</th>\n",
       "      <th>50%</th>\n",
       "      <th>75%</th>\n",
       "      <th>count</th>\n",
       "      <th>max</th>\n",
       "      <th>mean</th>\n",
       "      <th>min</th>\n",
       "      <th>std</th>\n",
       "      <th>price</th>\n",
       "    </tr>\n",
       "    <tr>\n",
       "      <th>order_status</th>\n",
       "      <th></th>\n",
       "      <th></th>\n",
       "      <th></th>\n",
       "      <th></th>\n",
       "      <th></th>\n",
       "      <th></th>\n",
       "      <th></th>\n",
       "      <th></th>\n",
       "      <th></th>\n",
       "    </tr>\n",
       "  </thead>\n",
       "  <tbody>\n",
       "    <tr>\n",
       "      <th>approved</th>\n",
       "      <td>$35.91</td>\n",
       "      <td>$82.44</td>\n",
       "      <td>$284.70</td>\n",
       "      <td>$40,465.00</td>\n",
       "      <td>$11,033.31</td>\n",
       "      <td>$398.44</td>\n",
       "      <td>$0.00</td>\n",
       "      <td>$774.55</td>\n",
       "      <td>$16,122,719.73</td>\n",
       "    </tr>\n",
       "    <tr>\n",
       "      <th>chargeback</th>\n",
       "      <td>$34.11</td>\n",
       "      <td>$80.95</td>\n",
       "      <td>$200.00</td>\n",
       "      <td>$360.00</td>\n",
       "      <td>$1,033.73</td>\n",
       "      <td>$135.10</td>\n",
       "      <td>$9.80</td>\n",
       "      <td>$147.64</td>\n",
       "      <td>$48,637.12</td>\n",
       "    </tr>\n",
       "  </tbody>\n",
       "</table>\n",
       "</div>"
      ],
      "text/plain": [
       "             describe                                                    \\\n",
       "                  25%     50%      75%       count         max     mean   \n",
       "order_status                                                              \n",
       "approved       $35.91  $82.44  $284.70  $40,465.00  $11,033.31  $398.44   \n",
       "chargeback     $34.11  $80.95  $200.00     $360.00   $1,033.73  $135.10   \n",
       "\n",
       "                                         sum  \n",
       "                min      std           price  \n",
       "order_status                                  \n",
       "approved      $0.00  $774.55  $16,122,719.73  \n",
       "chargeback    $9.80  $147.64      $48,637.12  "
      ]
     },
     "execution_count": 16,
     "metadata": {},
     "output_type": "execute_result"
    }
   ],
   "source": [
    "# create price pivot table calculate summary statistics of price for each order_status\n",
    "price_pivot_df = pd.pivot_table(df, index='order_status', values='price', aggfunc=['describe', 'sum'])\n",
    "sum_price_pivot_df = pd.pivot_table(df, index='order_status', values='price', aggfunc='sum')\n",
    "sum_price_pivot_df = price_pivot_df.applymap('${:,.2f}'.format)\n",
    "sum_price_pivot_df"
   ]
  },
  {
   "cell_type": "markdown",
   "id": "4a9bb8a3",
   "metadata": {},
   "source": [
    "**Price Distribution**\n",
    "\n",
    "*  86% orders under $1000\n",
    "*  no normal distubtion on price (can drop outliers for additional analysis)\n",
    "\n",
    "*Chargebacks*\n",
    "* chargeback price range $ 9.80 - 1,033\n",
    "\n",
    "* sum of all chargeback: $48,637.12\n",
    "\n",
    "* 75% of all chargebacks price under $200 \n",
    "\n",
    "*Approved* \n",
    "* approved price range $ 0 - 11,033\n",
    "\n",
    "* 75% of approved orders price under $285 \n",
    "\n",
    "* sum of all approved: $16,122,719.73\n",
    "    \n"
   ]
  },
  {
   "cell_type": "markdown",
   "id": "422f92c0",
   "metadata": {},
   "source": [
    "**Classification Score EDA** "
   ]
  },
  {
   "cell_type": "code",
   "execution_count": 18,
   "id": "6b8d7ba3",
   "metadata": {},
   "outputs": [
    {
     "data": {
      "image/png": "[encoded data removed]",
      "text/plain": [
       "<Figure size 432x288 with 2 Axes>"
      ]
     },
     "metadata": {
      "needs_background": "light"
     },
     "output_type": "display_data"
    }
   ],
   "source": [
    "# distribution of order_status (approved/chargeback) by score (0-1)\n",
    "df.hist(column='classification_score', by='order_status', bins=50, color='magenta')\n",
    "plt.xlabel('Classification Score')\n",
    "plt.ylabel('Order Count')\n",
    "plt.show()"
   ]
  },
  {
   "cell_type": "code",
   "execution_count": 19,
   "id": "b67306b6",
   "metadata": {},
   "outputs": [
    {
     "data": {
      "image/png": "[encoded data removed]",
      "text/plain": [
       "<Figure size 1440x144 with 1 Axes>"
      ]
     },
     "metadata": {
      "needs_background": "light"
     },
     "output_type": "display_data"
    },
    {
     "data": {
      "text/html": [
       "<div>\n",
       "<style scoped>\n",
       "    .dataframe tbody tr th:only-of-type {\n",
       "        vertical-align: middle;\n",
       "    }\n",
       "\n",
       "    .dataframe tbody tr th {\n",
       "        vertical-align: top;\n",
       "    }\n",
       "\n",
       "    .dataframe thead tr th {\n",
       "        text-align: left;\n",
       "    }\n",
       "\n",
       "    .dataframe thead tr:last-of-type th {\n",
       "        text-align: right;\n",
       "    }\n",
       "</style>\n",
       "<table border=\"1\" class=\"dataframe\">\n",
       "  <thead>\n",
       "    <tr>\n",
       "      <th></th>\n",
       "      <th colspan=\"8\" halign=\"left\">classification_score</th>\n",
       "    </tr>\n",
       "    <tr>\n",
       "      <th></th>\n",
       "      <th>25%</th>\n",
       "      <th>50%</th>\n",
       "      <th>75%</th>\n",
       "      <th>count</th>\n",
       "      <th>max</th>\n",
       "      <th>mean</th>\n",
       "      <th>min</th>\n",
       "      <th>std</th>\n",
       "    </tr>\n",
       "    <tr>\n",
       "      <th>order_status</th>\n",
       "      <th></th>\n",
       "      <th></th>\n",
       "      <th></th>\n",
       "      <th></th>\n",
       "      <th></th>\n",
       "      <th></th>\n",
       "      <th></th>\n",
       "      <th></th>\n",
       "    </tr>\n",
       "  </thead>\n",
       "  <tbody>\n",
       "    <tr>\n",
       "      <th>approved</th>\n",
       "      <td>0.989386</td>\n",
       "      <td>0.999204</td>\n",
       "      <td>0.999897</td>\n",
       "      <td>40465.0</td>\n",
       "      <td>1.000000</td>\n",
       "      <td>0.945900</td>\n",
       "      <td>0.038408</td>\n",
       "      <td>0.163566</td>\n",
       "    </tr>\n",
       "    <tr>\n",
       "      <th>chargeback</th>\n",
       "      <td>0.337844</td>\n",
       "      <td>0.785808</td>\n",
       "      <td>0.968291</td>\n",
       "      <td>360.0</td>\n",
       "      <td>0.999997</td>\n",
       "      <td>0.649584</td>\n",
       "      <td>0.048232</td>\n",
       "      <td>0.340546</td>\n",
       "    </tr>\n",
       "  </tbody>\n",
       "</table>\n",
       "</div>"
      ],
      "text/plain": [
       "             classification_score                                         \\\n",
       "                              25%       50%       75%    count       max   \n",
       "order_status                                                               \n",
       "approved                 0.989386  0.999204  0.999897  40465.0  1.000000   \n",
       "chargeback               0.337844  0.785808  0.968291    360.0  0.999997   \n",
       "\n",
       "                                            \n",
       "                  mean       min       std  \n",
       "order_status                                \n",
       "approved      0.945900  0.038408  0.163566  \n",
       "chargeback    0.649584  0.048232  0.340546  "
      ]
     },
     "execution_count": 19,
     "metadata": {},
     "output_type": "execute_result"
    }
   ],
   "source": [
    "# score box plot by order staus \n",
    "fig, ax = plt.subplots(figsize=(20, 2))\n",
    "df.boxplot(column=['classification_score'], by='order_status', vert=False, color='magenta', ax=ax)\n",
    "plt.xlabel('Classification Score')\n",
    "plt.ylabel('Order Status')\n",
    "plt.title('')\n",
    "plt.show()\n",
    "\n",
    "# pivot table to calculate summary stats on fraud_score on order_status\n",
    "score_pivot_df = df.pivot_table(values=['classification_score'], index='order_status', aggfunc='describe')\n",
    "score_pivot_df\n"
   ]
  },
  {
   "cell_type": "code",
   "execution_count": 49,
   "id": "884fb27c",
   "metadata": {
    "collapsed": true
   },
   "outputs": [
    {
     "data": {
      "image/png": "[encoded data removed]",
      "text/plain": [
       "<Figure size 1296x144 with 1 Axes>"
      ]
     },
     "metadata": {
      "needs_background": "light"
     },
     "output_type": "display_data"
    },
    {
     "data": {
      "text/plain": [
       "0"
      ]
     },
     "execution_count": 49,
     "metadata": {},
     "output_type": "execute_result"
    }
   ],
   "source": [
    "# create classification score boxplot by order status\n",
    "fig, ax = plt.subplots(figsize=(18, 2))\n",
    "sns.boxplot(data=df, x='classification_score', y='order_status', hue='order_status', color='magenta', orient='h', ax=ax)\n",
    "ax.set_xlabel('Classification Score')\n",
    "ax.set_ylabel('Order Status')\n",
    "plt.title('Distribution of Classification Scores by Order Status')\n",
    "plt.show()\n"
   ]
  },
  {
   "cell_type": "markdown",
   "id": "7c9db100",
   "metadata": {},
   "source": [
    "** Summary Stats on Classification Score ** \n",
    "\n",
    "*Approved*\n",
    "- Approved scores range from .038 - 1\n",
    "- 50% approved above  .999\n",
    "- 75% approved above .989\n",
    "- low scores that are approved are outliers\n",
    "\n",
    "*Chargebacks*\n",
    "- Chargeback scores range from .048 - .99\n",
    "- 50% chargebacks above .785\n",
    "- 25% chargebacks above .968\n"
   ]
  },
  {
   "cell_type": "markdown",
   "id": "768a3724",
   "metadata": {},
   "source": [
    "**Notes**\n",
    "- chargebacks: >100 orders with approval scores @/near with high score on the model(1), but ended up being a fraud resulting in chargeback \n",
    "- can investigage chargebacks over thershold and see if common thread\n",
    "- Scale of chargebacks to total count of orders is too small to see chargenback on single histogram "
   ]
  },
  {
   "cell_type": "code",
   "execution_count": 21,
   "id": "62b19e77",
   "metadata": {
    "collapsed": true
   },
   "outputs": [
    {
     "data": {
      "text/html": [
       "<div>\n",
       "<style scoped>\n",
       "    .dataframe tbody tr th:only-of-type {\n",
       "        vertical-align: middle;\n",
       "    }\n",
       "\n",
       "    .dataframe tbody tr th {\n",
       "        vertical-align: top;\n",
       "    }\n",
       "\n",
       "    .dataframe thead th {\n",
       "        text-align: right;\n",
       "    }\n",
       "</style>\n",
       "<table border=\"1\" class=\"dataframe\">\n",
       "  <thead>\n",
       "    <tr style=\"text-align: right;\">\n",
       "      <th></th>\n",
       "      <th>order_id</th>\n",
       "      <th>order_date</th>\n",
       "      <th>order_status</th>\n",
       "      <th>price</th>\n",
       "      <th>digital_product</th>\n",
       "      <th>customer_account_age</th>\n",
       "      <th>order_source</th>\n",
       "      <th>billing_zip</th>\n",
       "      <th>shipping_name_length</th>\n",
       "      <th>classification_score</th>\n",
       "    </tr>\n",
       "  </thead>\n",
       "  <tbody>\n",
       "    <tr>\n",
       "      <th>21246</th>\n",
       "      <td>941402457</td>\n",
       "      <td>2019-06-25</td>\n",
       "      <td>chargeback</td>\n",
       "      <td>130.95</td>\n",
       "      <td>True</td>\n",
       "      <td>1275</td>\n",
       "      <td>web</td>\n",
       "      <td>94587</td>\n",
       "      <td>0</td>\n",
       "      <td>0.048232</td>\n",
       "    </tr>\n",
       "    <tr>\n",
       "      <th>25857</th>\n",
       "      <td>950499862</td>\n",
       "      <td>2019-07-01</td>\n",
       "      <td>chargeback</td>\n",
       "      <td>50.00</td>\n",
       "      <td>True</td>\n",
       "      <td>0</td>\n",
       "      <td>mobile_app</td>\n",
       "      <td>14845</td>\n",
       "      <td>0</td>\n",
       "      <td>0.048683</td>\n",
       "    </tr>\n",
       "    <tr>\n",
       "      <th>32157</th>\n",
       "      <td>918120660</td>\n",
       "      <td>2019-06-08</td>\n",
       "      <td>chargeback</td>\n",
       "      <td>71.90</td>\n",
       "      <td>True</td>\n",
       "      <td>20</td>\n",
       "      <td>web</td>\n",
       "      <td>37075</td>\n",
       "      <td>0</td>\n",
       "      <td>0.049227</td>\n",
       "    </tr>\n",
       "    <tr>\n",
       "      <th>3987</th>\n",
       "      <td>917848677</td>\n",
       "      <td>2019-06-08</td>\n",
       "      <td>chargeback</td>\n",
       "      <td>35.95</td>\n",
       "      <td>True</td>\n",
       "      <td>0</td>\n",
       "      <td>mobile_app</td>\n",
       "      <td>37075</td>\n",
       "      <td>0</td>\n",
       "      <td>0.050901</td>\n",
       "    </tr>\n",
       "    <tr>\n",
       "      <th>18906</th>\n",
       "      <td>929597580</td>\n",
       "      <td>2019-06-16</td>\n",
       "      <td>chargeback</td>\n",
       "      <td>40.95</td>\n",
       "      <td>True</td>\n",
       "      <td>1569</td>\n",
       "      <td>web</td>\n",
       "      <td>92241</td>\n",
       "      <td>0</td>\n",
       "      <td>0.053618</td>\n",
       "    </tr>\n",
       "    <tr>\n",
       "      <th>...</th>\n",
       "      <td>...</td>\n",
       "      <td>...</td>\n",
       "      <td>...</td>\n",
       "      <td>...</td>\n",
       "      <td>...</td>\n",
       "      <td>...</td>\n",
       "      <td>...</td>\n",
       "      <td>...</td>\n",
       "      <td>...</td>\n",
       "      <td>...</td>\n",
       "    </tr>\n",
       "    <tr>\n",
       "      <th>16662</th>\n",
       "      <td>944971017</td>\n",
       "      <td>2019-06-28</td>\n",
       "      <td>chargeback</td>\n",
       "      <td>30.95</td>\n",
       "      <td>True</td>\n",
       "      <td>1135</td>\n",
       "      <td>web</td>\n",
       "      <td>92071</td>\n",
       "      <td>0</td>\n",
       "      <td>0.999646</td>\n",
       "    </tr>\n",
       "    <tr>\n",
       "      <th>35265</th>\n",
       "      <td>944521519</td>\n",
       "      <td>2019-06-27</td>\n",
       "      <td>chargeback</td>\n",
       "      <td>114.82</td>\n",
       "      <td>False</td>\n",
       "      <td>447</td>\n",
       "      <td>web</td>\n",
       "      <td>93065</td>\n",
       "      <td>8</td>\n",
       "      <td>0.999648</td>\n",
       "    </tr>\n",
       "    <tr>\n",
       "      <th>9326</th>\n",
       "      <td>937489254</td>\n",
       "      <td>2019-06-22</td>\n",
       "      <td>chargeback</td>\n",
       "      <td>15.95</td>\n",
       "      <td>True</td>\n",
       "      <td>0</td>\n",
       "      <td>web</td>\n",
       "      <td>02118</td>\n",
       "      <td>0</td>\n",
       "      <td>0.999649</td>\n",
       "    </tr>\n",
       "    <tr>\n",
       "      <th>38145</th>\n",
       "      <td>939162674</td>\n",
       "      <td>2019-06-23</td>\n",
       "      <td>chargeback</td>\n",
       "      <td>25.00</td>\n",
       "      <td>True</td>\n",
       "      <td>22</td>\n",
       "      <td>web</td>\n",
       "      <td>95208</td>\n",
       "      <td>0</td>\n",
       "      <td>0.999693</td>\n",
       "    </tr>\n",
       "    <tr>\n",
       "      <th>26533</th>\n",
       "      <td>928800736</td>\n",
       "      <td>2019-06-16</td>\n",
       "      <td>chargeback</td>\n",
       "      <td>10.00</td>\n",
       "      <td>True</td>\n",
       "      <td>2175</td>\n",
       "      <td>web</td>\n",
       "      <td>83669</td>\n",
       "      <td>0</td>\n",
       "      <td>0.999997</td>\n",
       "    </tr>\n",
       "  </tbody>\n",
       "</table>\n",
       "<p>360 rows × 10 columns</p>\n",
       "</div>"
      ],
      "text/plain": [
       "        order_id  order_date order_status   price  digital_product  \\\n",
       "21246  941402457  2019-06-25   chargeback  130.95             True   \n",
       "25857  950499862  2019-07-01   chargeback   50.00             True   \n",
       "32157  918120660  2019-06-08   chargeback   71.90             True   \n",
       "3987   917848677  2019-06-08   chargeback   35.95             True   \n",
       "18906  929597580  2019-06-16   chargeback   40.95             True   \n",
       "...          ...         ...          ...     ...              ...   \n",
       "16662  944971017  2019-06-28   chargeback   30.95             True   \n",
       "35265  944521519  2019-06-27   chargeback  114.82            False   \n",
       "9326   937489254  2019-06-22   chargeback   15.95             True   \n",
       "38145  939162674  2019-06-23   chargeback   25.00             True   \n",
       "26533  928800736  2019-06-16   chargeback   10.00             True   \n",
       "\n",
       "       customer_account_age order_source billing_zip  shipping_name_length  \\\n",
       "21246                  1275          web       94587                     0   \n",
       "25857                     0   mobile_app       14845                     0   \n",
       "32157                    20          web       37075                     0   \n",
       "3987                      0   mobile_app       37075                     0   \n",
       "18906                  1569          web       92241                     0   \n",
       "...                     ...          ...         ...                   ...   \n",
       "16662                  1135          web       92071                     0   \n",
       "35265                   447          web       93065                     8   \n",
       "9326                      0          web       02118                     0   \n",
       "38145                    22          web       95208                     0   \n",
       "26533                  2175          web       83669                     0   \n",
       "\n",
       "       classification_score  \n",
       "21246              0.048232  \n",
       "25857              0.048683  \n",
       "32157              0.049227  \n",
       "3987               0.050901  \n",
       "18906              0.053618  \n",
       "...                     ...  \n",
       "16662              0.999646  \n",
       "35265              0.999648  \n",
       "9326               0.999649  \n",
       "38145              0.999693  \n",
       "26533              0.999997  \n",
       "\n",
       "[360 rows x 10 columns]"
      ]
     },
     "execution_count": 21,
     "metadata": {},
     "output_type": "execute_result"
    }
   ],
   "source": [
    "# subframes by order_status\n",
    "approved_orders = df[df['order_status']== 'approved']\n",
    "chargeback_orders = df[df['order_status']== 'chargeback']\n",
    "\n",
    "# approved orders subframe\n",
    "approved_orders.sort_values('classification_score')\n",
    "\n",
    "# chargeback orders subframe \n",
    "chargeback_orders.sort_values('classification_score')"
   ]
  },
  {
   "cell_type": "markdown",
   "id": "4e3bab2f",
   "metadata": {},
   "source": [
    "#### Digital Product EDA"
   ]
  },
  {
   "cell_type": "code",
   "execution_count": 22,
   "id": "0bb86605",
   "metadata": {},
   "outputs": [
    {
     "data": {
      "image/png": "[encoded data removed]",
      "text/plain": [
       "<Figure size 432x288 with 1 Axes>"
      ]
     },
     "metadata": {
      "needs_background": "light"
     },
     "output_type": "display_data"
    },
    {
     "data": {
      "text/html": [
       "<div>\n",
       "<style scoped>\n",
       "    .dataframe tbody tr th:only-of-type {\n",
       "        vertical-align: middle;\n",
       "    }\n",
       "\n",
       "    .dataframe tbody tr th {\n",
       "        vertical-align: top;\n",
       "    }\n",
       "\n",
       "    .dataframe thead tr th {\n",
       "        text-align: left;\n",
       "    }\n",
       "\n",
       "    .dataframe thead tr:last-of-type th {\n",
       "        text-align: right;\n",
       "    }\n",
       "</style>\n",
       "<table border=\"1\" class=\"dataframe\">\n",
       "  <thead>\n",
       "    <tr>\n",
       "      <th></th>\n",
       "      <th></th>\n",
       "      <th colspan=\"8\" halign=\"left\">describe</th>\n",
       "    </tr>\n",
       "    <tr>\n",
       "      <th></th>\n",
       "      <th></th>\n",
       "      <th colspan=\"8\" halign=\"left\">price</th>\n",
       "    </tr>\n",
       "    <tr>\n",
       "      <th></th>\n",
       "      <th></th>\n",
       "      <th>25%</th>\n",
       "      <th>50%</th>\n",
       "      <th>75%</th>\n",
       "      <th>count</th>\n",
       "      <th>max</th>\n",
       "      <th>mean</th>\n",
       "      <th>min</th>\n",
       "      <th>std</th>\n",
       "    </tr>\n",
       "    <tr>\n",
       "      <th>order_status</th>\n",
       "      <th>digital_product</th>\n",
       "      <th></th>\n",
       "      <th></th>\n",
       "      <th></th>\n",
       "      <th></th>\n",
       "      <th></th>\n",
       "      <th></th>\n",
       "      <th></th>\n",
       "      <th></th>\n",
       "    </tr>\n",
       "  </thead>\n",
       "  <tbody>\n",
       "    <tr>\n",
       "      <th rowspan=\"2\" valign=\"top\">approved</th>\n",
       "      <th>False</th>\n",
       "      <td>107.44</td>\n",
       "      <td>408.94</td>\n",
       "      <td>1893.8875</td>\n",
       "      <td>13498.0</td>\n",
       "      <td>11033.31</td>\n",
       "      <td>915.530484</td>\n",
       "      <td>0.00</td>\n",
       "      <td>1105.069831</td>\n",
       "    </tr>\n",
       "    <tr>\n",
       "      <th>True</th>\n",
       "      <td>26.00</td>\n",
       "      <td>50.00</td>\n",
       "      <td>105.9500</td>\n",
       "      <td>26967.0</td>\n",
       "      <td>2497.74</td>\n",
       "      <td>139.610979</td>\n",
       "      <td>0.00</td>\n",
       "      <td>296.918535</td>\n",
       "    </tr>\n",
       "    <tr>\n",
       "      <th rowspan=\"2\" valign=\"top\">chargeback</th>\n",
       "      <th>False</th>\n",
       "      <td>202.75</td>\n",
       "      <td>308.69</td>\n",
       "      <td>508.9400</td>\n",
       "      <td>40.0</td>\n",
       "      <td>1033.73</td>\n",
       "      <td>362.710500</td>\n",
       "      <td>26.99</td>\n",
       "      <td>216.827451</td>\n",
       "    </tr>\n",
       "    <tr>\n",
       "      <th>True</th>\n",
       "      <td>30.95</td>\n",
       "      <td>55.95</td>\n",
       "      <td>155.9500</td>\n",
       "      <td>320.0</td>\n",
       "      <td>505.95</td>\n",
       "      <td>106.652188</td>\n",
       "      <td>9.80</td>\n",
       "      <td>107.119672</td>\n",
       "    </tr>\n",
       "  </tbody>\n",
       "</table>\n",
       "</div>"
      ],
      "text/plain": [
       "                             describe                                        \\\n",
       "                                price                                         \n",
       "                                  25%     50%        75%    count       max   \n",
       "order_status digital_product                                                  \n",
       "approved     False             107.44  408.94  1893.8875  13498.0  11033.31   \n",
       "             True               26.00   50.00   105.9500  26967.0   2497.74   \n",
       "chargeback   False             202.75  308.69   508.9400     40.0   1033.73   \n",
       "             True               30.95   55.95   155.9500    320.0    505.95   \n",
       "\n",
       "                                                              \n",
       "                                                              \n",
       "                                    mean    min          std  \n",
       "order_status digital_product                                  \n",
       "approved     False            915.530484   0.00  1105.069831  \n",
       "             True             139.610979   0.00   296.918535  \n",
       "chargeback   False            362.710500  26.99   216.827451  \n",
       "             True             106.652188   9.80   107.119672  "
      ]
     },
     "execution_count": 22,
     "metadata": {},
     "output_type": "execute_result"
    }
   ],
   "source": [
    "# create a boxplot of price by digital_product\n",
    "sns.boxplot(data=df, x='digital_product', y='price', color='magenta')\n",
    "plt.title('Distribution of Product Type (Digital/Tangible)')\n",
    "plt.show()\n",
    "\n",
    "#pivot \n",
    "digital_pivot_df = df.pivot_table(values=['price'], index=['order_status', 'digital_product'], aggfunc=['describe'])\n",
    "digital_pivot_df\n",
    "\n",
    "#digital_pivot_df = pd.pivot_table(df, index='order_status', values ='price', columns='digital_product', aggfunc = 'sum', margins = True, margins_name='Total')"
   ]
  },
  {
   "cell_type": "markdown",
   "id": "86351d71",
   "metadata": {},
   "source": [
    "**Digital Product**\n",
    "\n",
    "*Digital Product*\n",
    "\n",
    "* count of 320 chargebacks\n",
    "* price range of digital product chargebacks $ 9.80-505\n",
    "\n",
    "* 25% digital products are more than $ 155\n",
    "\n",
    "*Tangible Product* \n",
    "* count of 40 chargebacks \n",
    "* price range of tangibel product chargebacks $ 26.99 - 1033\n",
    "\n",
    "* 25% tangible products over  $508\n"
   ]
  },
  {
   "cell_type": "markdown",
   "id": "8f42828c",
   "metadata": {},
   "source": [
    "## 1. Rely exclusively on model scores using Company decision-engine, and set a decline threshold that will provide a 90% approval rate"
   ]
  },
  {
   "cell_type": "code",
   "execution_count": 23,
   "id": "2ba67d90",
   "metadata": {},
   "outputs": [
    {
     "name": "stdout",
     "output_type": "stream",
     "text": [
      "In df sorted by score desc, 36742 orders approved, of 40825 total orders, using 0.9 approval threshold.\n",
      "\n",
      "Orders with scores > threshhold score: 0.860766183838456 will be approved.\n",
      "\n",
      "Dataframe with 90% Threshold\n"
     ]
    },
    {
     "data": {
      "text/html": [
       "<div>\n",
       "<style scoped>\n",
       "    .dataframe tbody tr th:only-of-type {\n",
       "        vertical-align: middle;\n",
       "    }\n",
       "\n",
       "    .dataframe tbody tr th {\n",
       "        vertical-align: top;\n",
       "    }\n",
       "\n",
       "    .dataframe thead th {\n",
       "        text-align: right;\n",
       "    }\n",
       "</style>\n",
       "<table border=\"1\" class=\"dataframe\">\n",
       "  <thead>\n",
       "    <tr style=\"text-align: right;\">\n",
       "      <th></th>\n",
       "      <th>order_id</th>\n",
       "      <th>order_date</th>\n",
       "      <th>order_status</th>\n",
       "      <th>price</th>\n",
       "      <th>digital_product</th>\n",
       "      <th>customer_account_age</th>\n",
       "      <th>order_source</th>\n",
       "      <th>billing_zip</th>\n",
       "      <th>shipping_name_length</th>\n",
       "      <th>classification_score</th>\n",
       "      <th>new_order_status</th>\n",
       "    </tr>\n",
       "  </thead>\n",
       "  <tbody>\n",
       "    <tr>\n",
       "      <th>23097</th>\n",
       "      <td>945827823</td>\n",
       "      <td>2019-06-28</td>\n",
       "      <td>approved</td>\n",
       "      <td>16.44</td>\n",
       "      <td>False</td>\n",
       "      <td>759</td>\n",
       "      <td>web</td>\n",
       "      <td>98109</td>\n",
       "      <td>9</td>\n",
       "      <td>1.000000</td>\n",
       "      <td>approved</td>\n",
       "    </tr>\n",
       "    <tr>\n",
       "      <th>1094</th>\n",
       "      <td>932303597</td>\n",
       "      <td>2019-06-18</td>\n",
       "      <td>approved</td>\n",
       "      <td>150.00</td>\n",
       "      <td>True</td>\n",
       "      <td>894</td>\n",
       "      <td>web</td>\n",
       "      <td>52761</td>\n",
       "      <td>0</td>\n",
       "      <td>0.999999</td>\n",
       "      <td>approved</td>\n",
       "    </tr>\n",
       "    <tr>\n",
       "      <th>27364</th>\n",
       "      <td>916501223</td>\n",
       "      <td>2019-06-07</td>\n",
       "      <td>approved</td>\n",
       "      <td>105.94</td>\n",
       "      <td>False</td>\n",
       "      <td>5160</td>\n",
       "      <td>web</td>\n",
       "      <td>60047</td>\n",
       "      <td>10</td>\n",
       "      <td>0.999999</td>\n",
       "      <td>approved</td>\n",
       "    </tr>\n",
       "    <tr>\n",
       "      <th>22754</th>\n",
       "      <td>916516038</td>\n",
       "      <td>2019-06-07</td>\n",
       "      <td>approved</td>\n",
       "      <td>100.00</td>\n",
       "      <td>True</td>\n",
       "      <td>1267</td>\n",
       "      <td>web</td>\n",
       "      <td>46516</td>\n",
       "      <td>0</td>\n",
       "      <td>0.999999</td>\n",
       "      <td>approved</td>\n",
       "    </tr>\n",
       "    <tr>\n",
       "      <th>22622</th>\n",
       "      <td>925554558</td>\n",
       "      <td>2019-06-13</td>\n",
       "      <td>approved</td>\n",
       "      <td>225.00</td>\n",
       "      <td>True</td>\n",
       "      <td>889</td>\n",
       "      <td>web</td>\n",
       "      <td>52761</td>\n",
       "      <td>0</td>\n",
       "      <td>0.999999</td>\n",
       "      <td>approved</td>\n",
       "    </tr>\n",
       "  </tbody>\n",
       "</table>\n",
       "</div>"
      ],
      "text/plain": [
       "        order_id  order_date order_status   price  digital_product  \\\n",
       "23097  945827823  2019-06-28     approved   16.44            False   \n",
       "1094   932303597  2019-06-18     approved  150.00             True   \n",
       "27364  916501223  2019-06-07     approved  105.94            False   \n",
       "22754  916516038  2019-06-07     approved  100.00             True   \n",
       "22622  925554558  2019-06-13     approved  225.00             True   \n",
       "\n",
       "       customer_account_age order_source billing_zip  shipping_name_length  \\\n",
       "23097                   759          web       98109                     9   \n",
       "1094                    894          web       52761                     0   \n",
       "27364                  5160          web       60047                    10   \n",
       "22754                  1267          web       46516                     0   \n",
       "22622                   889          web       52761                     0   \n",
       "\n",
       "       classification_score new_order_status  \n",
       "23097              1.000000         approved  \n",
       "1094               0.999999         approved  \n",
       "27364              0.999999         approved  \n",
       "22754              0.999999         approved  \n",
       "22622              0.999999         approved  "
      ]
     },
     "execution_count": 23,
     "metadata": {},
     "output_type": "execute_result"
    }
   ],
   "source": [
    "# 1. new df that sorts model scores desc\n",
    "df_sorted = df.sort_values('classification_score', ascending = False)\n",
    "df_sorted\n",
    "\n",
    "# 2. set threshold \n",
    "threshold = 0.90\n",
    "\n",
    "# 3. calculate count of orders that will be approved using threshold \n",
    "num_orders_approved_90 = int(total_orders * threshold)\n",
    "print('In df sorted by score desc,', num_orders_approved_90,'orders approved, '\\\n",
    "      'of', total_orders, 'total orders, using',threshold , 'approval threshold.')\n",
    "\n",
    "# 4. locate 'threshold score' using location of threshold count of sorted_df \n",
    "threshold_score = df_sorted.iloc[num_orders_approved_90]['classification_score']\n",
    "print('\\nOrders with scores > threshhold score:', threshold_score, 'will be approved.')\n",
    "\n",
    "# 5. create new col (new order_status) -populate based approvals based on on >/< threshold score \n",
    "df_sorted[\"new_order_status\"] = \\\n",
    "    np.where(df_sorted[\"classification_score\"]>= threshold_score, \"approved\", \"chargeback\" )\n",
    "\n",
    "print('\\nDataframe with 90% Threshold')\n",
    "df_sorted.head()\n"
   ]
  },
  {
   "cell_type": "code",
   "execution_count": 24,
   "id": "503c7764",
   "metadata": {},
   "outputs": [
    {
     "name": "stdout",
     "output_type": "stream",
     "text": [
      "            new_order_status\n",
      "approved            0.900012\n",
      "chargeback          0.099988\n"
     ]
    }
   ],
   "source": [
    "# confirm new_order_status contains 90% approvals\n",
    "print(df_sorted['new_order_status'].value_counts(normalize=True).to_frame())"
   ]
  },
  {
   "cell_type": "markdown",
   "id": "1df16c33",
   "metadata": {},
   "source": [
    "Process \n",
    "1. new dataframe sorted by score in descending order\n",
    "2. count orders, identify order number representing approval threshold\n",
    "3. extract the score from the last row of sorted_df represending approval threshold \n",
    "4. create new column and populate setting 'approvals' > threshold score and 'chargebacks' < threshold score\n",
    "5. check work by checking percentage of approvals in new status col "
   ]
  },
  {
   "cell_type": "markdown",
   "id": "fcd53517",
   "metadata": {},
   "source": [
    "## 2. Plot the model scores distribution"
   ]
  },
  {
   "cell_type": "code",
   "execution_count": 25,
   "id": "b1a877a4",
   "metadata": {},
   "outputs": [
    {
     "data": {
      "image/png": "[encoded data removed]",
      "text/plain": [
       "<Figure size 432x288 with 2 Axes>"
      ]
     },
     "metadata": {
      "needs_background": "light"
     },
     "output_type": "display_data"
    }
   ],
   "source": [
    "# new distribution of order status by score using pandas\n",
    "df_sorted.hist(column='classification_score', by='new_order_status', bins=20, color='magenta')\n",
    "plt.xlabel('Classification Score')\n",
    "plt.ylabel('Order Count')\n",
    "plt.show()"
   ]
  },
  {
   "cell_type": "code",
   "execution_count": 26,
   "id": "de4509e8",
   "metadata": {},
   "outputs": [
    {
     "data": {
      "image/png": "[encoded data removed]",
      "text/plain": [
       "<Figure size 432x288 with 1 Axes>"
      ]
     },
     "metadata": {
      "needs_background": "light"
     },
     "output_type": "display_data"
    }
   ],
   "source": [
    "# dist of new model with matplotlib\n",
    "plt.hist(df_sorted[df_sorted['new_order_status'] == 'approved']['classification_score'], color='green', label='approve')\n",
    "plt.hist(df_sorted[df_sorted['new_order_status'] == 'chargeback']['classification_score'], color='red', label='chargeback')\n",
    "\n",
    "# labels and legend\n",
    "plt.xlabel('Classification Score')\n",
    "plt.ylabel('Order Count')\n",
    "plt.legend(loc='upper right')\n",
    "plt.title('Distribution of Order Status 90% Approval Model')\n",
    "plt.show()"
   ]
  },
  {
   "cell_type": "markdown",
   "id": "47f561cd",
   "metadata": {},
   "source": [
    "distribution \n",
    "* sanity check to confirm adjusted dataframe  "
   ]
  },
  {
   "cell_type": "markdown",
   "id": "bb45784f",
   "metadata": {},
   "source": [
    "## 3. Assuming we aim at a proportion of 50% between the CHB cost and the total revenue (sum amount of CHBs divided by the total revenue), what would have to be the fee based Company business model?"
   ]
  },
  {
   "cell_type": "code",
   "execution_count": 27,
   "id": "d002f4ce",
   "metadata": {},
   "outputs": [
    {
     "data": {
      "text/plain": [
       "Series([], dtype: int64)"
      ]
     },
     "execution_count": 27,
     "metadata": {},
     "output_type": "execute_result"
    }
   ],
   "source": [
    "# check data to see if chargeback are booked as neg revenue\n",
    "chargeback_neg = df[df['price']< 0].value_counts()\n",
    "chargeback_neg"
   ]
  },
  {
   "cell_type": "markdown",
   "id": "b34582fc",
   "metadata": {},
   "source": [
    "sanity check \n",
    "- price data all > 0\n",
    "- original eda price min = 0 "
   ]
  },
  {
   "cell_type": "markdown",
   "id": "421fee8a",
   "metadata": {},
   "source": [
    "##### Scenario: Calculate Company Fee \n",
    "    * assumption goal fee: cover chargeback cost + 50%"
   ]
  },
  {
   "cell_type": "code",
   "execution_count": 28,
   "id": "74a8fee0",
   "metadata": {},
   "outputs": [
    {
     "name": "stdout",
     "output_type": "stream",
     "text": [
      "total revenue: $16,171,357\n",
      "sum value of approved orders $16,122,720\n",
      "sum value of chargebacks: $48,637\n",
      "\n",
      "chargeback as a percent of total revenue: 0.3%\n",
      "\n",
      "fee amount goal (1.5x sum of chargeback): $72,956\n",
      "\n",
      "fee as percent of revenue: 0.5%\n"
     ]
    }
   ],
   "source": [
    "# total revenue (incl chargebacks)\n",
    "total_rev = df['price'].sum()\n",
    "print('total revenue: ${:,.0f}'.format(total_rev))\n",
    "\n",
    "# calcualate sum approved \n",
    "sum_approved = df[df[\"order_status\"] == \"approved\"][\"price\"].sum()\n",
    "print('sum value of approved orders ${:,.0f}'.format(sum_approved))\n",
    "\n",
    "# calculate sum chargebacks\n",
    "sum_chargeback = df[df[\"order_status\"] == \"chargeback\"][\"price\"].sum()\n",
    "print('sum value of chargebacks: ${:,.0f}'.format(sum_chargeback))\n",
    "\n",
    "# chargeback as a percent of total revenues \n",
    "percent_chargeback_cost_actual = sum_chargeback/total_rev \n",
    "print ('\\nchargeback as a percent of total revenue: {:.1%}'.format(percent_chargeback_cost_actual))\n",
    "\n",
    "#\"proportion of 50% between the CHB cost and the total revenue\"\n",
    "# given the CHB cost .3% of revenue above line was interpreted to \n",
    "# calculate goal  for fee: fee to cover chargeback + 50% of chargeback - adjustments can be made as more clarification is provided\n",
    "fee_amount_50_over_chargeback = 1.5 * sum_chargeback\n",
    "print ('\\nfee amount goal (1.5x sum of chargeback): ${:,.0f}'.format(fee_amount_50_over_chargeback))\n",
    "\n",
    "#fee goal # should rev be total appoved \n",
    "fee_threshild_50_over_chargeback = fee_amount_50_over_chargeback / total_rev \n",
    "print ('\\nfee as percent of revenue: {:.1%}'.format(fee_threshild_50_over_chargeback))"
   ]
  },
  {
   "cell_type": "markdown",
   "id": "098d3f38",
   "metadata": {},
   "source": [
    "**Notes**\n",
    "- .45% fee on all transactions is needed to cover all chargebacks + 50% of chargeback fees \n",
    "- seems low should investigate industry standard\n",
    "- given the .3% chargeback costs, this has been interpreted to mean recover all chargeback cost + 50%\n",
    "- adjustments can be made as more information becomes available"
   ]
  },
  {
   "cell_type": "markdown",
   "id": "597c5448",
   "metadata": {},
   "source": [
    "**REQUESTED Clarifiction on original question**\n",
    "- Orig Q: \"a proportion of 50% between the CHB cost and the total revenue\" \n",
    "- Orig definition COMPANY Business Model: \"We collect a small fraction (fee) of the amount of all approved orders and give a chargeback guarantee for the full order amount if an order we approve comes back as a chargeback.\" \n",
    "- Revenue defined as :\"sum amount of CHBs divided by the total revenue\" interpreted as revenue of customer\n",
    " \n"
   ]
  },
  {
   "cell_type": "markdown",
   "id": "7c7a12c2",
   "metadata": {},
   "source": [
    "##### Scenario: Calculate COMPANY Fee \n",
    "    * assumption chargeback cost: total revenue = 50%\n",
    "    * COMPANY fee amount assumed using assumed 1.5% fee threshold\n",
    "    * COMPANY fee calculated using assumed goal threshold amount of $100,000  \n"
   ]
  },
  {
   "cell_type": "code",
   "execution_count": 31,
   "id": "de4cda40",
   "metadata": {},
   "outputs": [
    {
     "name": "stdout",
     "output_type": "stream",
     "text": [
      "total revenue: $16,171,357\n",
      "CHB: Total Revenue (50% ratio): $8,085,678\n",
      "\n",
      "Assumed Company_fee_threshold: 1.5%\n",
      "Company_fee_collected using assumed fee threshold: $121,285\n",
      "\n",
      "Company_goal_income: $100,000\n",
      "Company_goal_fee: 1.2%\n"
     ]
    }
   ],
   "source": [
    "# calculate total revenue by adding all enterants in price col\n",
    "total_revenue = df.price.sum()\n",
    "print(\"total revenue: ${:,.0f}\".format(total_revenue))\n",
    "\n",
    "# calculate CHB as 50% of all revenue\n",
    "CHB_to_revenue_50 = total_revenue *.50\n",
    "print(\"CHB: Total Revenue (50% ratio): ${:,.0f}\".format(CHB_to_revenue_50))\n",
    "\n",
    "# set fee (based on CC fees) can be changed\n",
    "Company_fee_threshold = .015\n",
    "print(\"\\nAssumed Company_fee_threshold: {:.1%}\".format(Company_fee_threshold))\n",
    "\n",
    "# calculate amount riskified would collect on accepted orders based on fee threshold\n",
    "Company_fee_collected =  CHB_to_revenue_50 * Company_fee_threshold\n",
    "print(\"Company_fee_collected using assumed fee threshold: ${:,.0f}\".format(Company_fee_collected)) \n",
    "\n",
    "# set goal income (arbitrary ) can be changed\n",
    "Company_goal_income = 100000\n",
    "print(\"\\nCompany_goal_income: ${:,.0f}\".format(Company_goal_income) )\n",
    "\n",
    "Company_goal_fee = Company_goal_income/CHB_to_revenue_50\n",
    "print(\"Company_goal_fee: {:.1%}\".format(Company_goal_fee))"
   ]
  },
  {
   "cell_type": "markdown",
   "id": "c3ac4fea",
   "metadata": {},
   "source": [
    "## 4. In the dataset, there’s a column indicating whether the purchased goods are digital or tangible. What can you say about the risk level of each segment?"
   ]
  },
  {
   "cell_type": "markdown",
   "id": "f4ba6d8a",
   "metadata": {},
   "source": [
    "##### Percent of Orders:  \n",
    "    * Digital Product(True) & Tangible Product(False)"
   ]
  },
  {
   "cell_type": "code",
   "execution_count": 32,
   "id": "5c727275",
   "metadata": {},
   "outputs": [
    {
     "name": "stdout",
     "output_type": "stream",
     "text": [
      "       digital_product\n",
      "True          0.668389\n",
      "False         0.331611\n"
     ]
    }
   ],
   "source": [
    "print(df.digital_product.value_counts(normalize=True).to_frame())"
   ]
  },
  {
   "cell_type": "code",
   "execution_count": 33,
   "id": "37335c0d",
   "metadata": {},
   "outputs": [
    {
     "data": {
      "text/html": [
       "<div>\n",
       "<style scoped>\n",
       "    .dataframe tbody tr th:only-of-type {\n",
       "        vertical-align: middle;\n",
       "    }\n",
       "\n",
       "    .dataframe tbody tr th {\n",
       "        vertical-align: top;\n",
       "    }\n",
       "\n",
       "    .dataframe thead th {\n",
       "        text-align: right;\n",
       "    }\n",
       "</style>\n",
       "<table border=\"1\" class=\"dataframe\">\n",
       "  <thead>\n",
       "    <tr style=\"text-align: right;\">\n",
       "      <th></th>\n",
       "      <th>order_status</th>\n",
       "    </tr>\n",
       "  </thead>\n",
       "  <tbody>\n",
       "    <tr>\n",
       "      <th>approved</th>\n",
       "      <td>0.988273</td>\n",
       "    </tr>\n",
       "    <tr>\n",
       "      <th>chargeback</th>\n",
       "      <td>0.011727</td>\n",
       "    </tr>\n",
       "  </tbody>\n",
       "</table>\n",
       "</div>"
      ],
      "text/plain": [
       "            order_status\n",
       "approved        0.988273\n",
       "chargeback      0.011727"
      ]
     },
     "execution_count": 33,
     "metadata": {},
     "output_type": "execute_result"
    }
   ],
   "source": [
    "# order_status of digital products\n",
    "df[df['digital_product']==True]['order_status'].value_counts(normalize=True).to_frame()"
   ]
  },
  {
   "cell_type": "code",
   "execution_count": 34,
   "id": "201f001c",
   "metadata": {},
   "outputs": [
    {
     "data": {
      "text/html": [
       "<div>\n",
       "<style scoped>\n",
       "    .dataframe tbody tr th:only-of-type {\n",
       "        vertical-align: middle;\n",
       "    }\n",
       "\n",
       "    .dataframe tbody tr th {\n",
       "        vertical-align: top;\n",
       "    }\n",
       "\n",
       "    .dataframe thead th {\n",
       "        text-align: right;\n",
       "    }\n",
       "</style>\n",
       "<table border=\"1\" class=\"dataframe\">\n",
       "  <thead>\n",
       "    <tr style=\"text-align: right;\">\n",
       "      <th></th>\n",
       "      <th>order_status</th>\n",
       "    </tr>\n",
       "  </thead>\n",
       "  <tbody>\n",
       "    <tr>\n",
       "      <th>approved</th>\n",
       "      <td>0.997045</td>\n",
       "    </tr>\n",
       "    <tr>\n",
       "      <th>chargeback</th>\n",
       "      <td>0.002955</td>\n",
       "    </tr>\n",
       "  </tbody>\n",
       "</table>\n",
       "</div>"
      ],
      "text/plain": [
       "            order_status\n",
       "approved        0.997045\n",
       "chargeback      0.002955"
      ]
     },
     "execution_count": 34,
     "metadata": {},
     "output_type": "execute_result"
    }
   ],
   "source": [
    "# %approved / chargebacks of tangible products\n",
    "df[df['digital_product']==False]['order_status'].value_counts(normalize=True).to_frame()"
   ]
  },
  {
   "cell_type": "markdown",
   "id": "41cb8a22",
   "metadata": {},
   "source": [
    "##### Sum of Revenue:  \n",
    "    * Digital Product(True) & Tangible Product(False) by Status(approved/chargeback)"
   ]
  },
  {
   "cell_type": "code",
   "execution_count": 35,
   "id": "d74b5d4c",
   "metadata": {},
   "outputs": [
    {
     "data": {
      "text/html": [
       "<div>\n",
       "<style scoped>\n",
       "    .dataframe tbody tr th:only-of-type {\n",
       "        vertical-align: middle;\n",
       "    }\n",
       "\n",
       "    .dataframe tbody tr th {\n",
       "        vertical-align: top;\n",
       "    }\n",
       "\n",
       "    .dataframe thead th {\n",
       "        text-align: right;\n",
       "    }\n",
       "</style>\n",
       "<table border=\"1\" class=\"dataframe\">\n",
       "  <thead>\n",
       "    <tr style=\"text-align: right;\">\n",
       "      <th>digital_product</th>\n",
       "      <th>False</th>\n",
       "      <th>True</th>\n",
       "      <th>Total</th>\n",
       "    </tr>\n",
       "    <tr>\n",
       "      <th>order_status</th>\n",
       "      <th></th>\n",
       "      <th></th>\n",
       "      <th></th>\n",
       "    </tr>\n",
       "  </thead>\n",
       "  <tbody>\n",
       "    <tr>\n",
       "      <th>approved</th>\n",
       "      <td>$12,357,830</td>\n",
       "      <td>$3,764,889</td>\n",
       "      <td>$16,122,720</td>\n",
       "    </tr>\n",
       "    <tr>\n",
       "      <th>chargeback</th>\n",
       "      <td>$14,508</td>\n",
       "      <td>$34,129</td>\n",
       "      <td>$48,637</td>\n",
       "    </tr>\n",
       "    <tr>\n",
       "      <th>Total</th>\n",
       "      <td>$12,372,339</td>\n",
       "      <td>$3,799,018</td>\n",
       "      <td>$16,171,357</td>\n",
       "    </tr>\n",
       "  </tbody>\n",
       "</table>\n",
       "</div>"
      ],
      "text/plain": [
       "digital_product        False        True        Total\n",
       "order_status                                         \n",
       "approved         $12,357,830  $3,764,889  $16,122,720\n",
       "chargeback           $14,508     $34,129      $48,637\n",
       "Total            $12,372,339  $3,799,018  $16,171,357"
      ]
     },
     "execution_count": 35,
     "metadata": {},
     "output_type": "execute_result"
    }
   ],
   "source": [
    "# create chart to sum price of digital/tangible products sorted by approval status\n",
    "digital_pivot_df = pd.pivot_table(df, index='order_status', values ='price', columns='digital_product', aggfunc = 'sum', margins = True, margins_name='Total')\n",
    "digital_pivot_df = digital_pivot_df.applymap('${:,.0f}'.format)\n",
    "digital_pivot_df"
   ]
  },
  {
   "cell_type": "markdown",
   "id": "9a195c78",
   "metadata": {},
   "source": [
    "**Notes**\n",
    "- digital products: 66% of count of orders\n",
    "- digital products: 24% of order totals by price \n",
    "- digital product riskier by count of orders: \n",
    "    - greater number of  chargbacks (1% digital product : .3% of tangible products)\n",
    "- tangible product result >2x $$ lost to chargebacks"
   ]
  },
  {
   "cell_type": "code",
   "execution_count": 36,
   "id": "241bad3a",
   "metadata": {},
   "outputs": [
    {
     "data": {
      "image/png": "[encoded data removed]",
      "text/plain": [
       "<Figure size 432x288 with 1 Axes>"
      ]
     },
     "metadata": {
      "needs_background": "light"
     },
     "output_type": "display_data"
    }
   ],
   "source": [
    "# plot digital_product & classifcation_score \n",
    "df[df['digital_product']==True]['classification_score'].hist()\n",
    "plt.title('Digital Product')\n",
    "plt.show()"
   ]
  },
  {
   "cell_type": "code",
   "execution_count": 37,
   "id": "d41ec795",
   "metadata": {},
   "outputs": [
    {
     "data": {
      "image/png": "[encoded data removed]",
      "text/plain": [
       "<Figure size 432x288 with 1 Axes>"
      ]
     },
     "metadata": {
      "needs_background": "light"
     },
     "output_type": "display_data"
    }
   ],
   "source": [
    "#plot digital_product & classifcation_score \n",
    "df[df['digital_product']==False]['classification_score'].hist()\n",
    "plt.title('Tangible Product')\n",
    "plt.show()"
   ]
  },
  {
   "cell_type": "markdown",
   "id": "584ca914",
   "metadata": {},
   "source": [
    "## 5. Free exploration - Provide 2-3 interesting breakdowns or insights."
   ]
  },
  {
   "cell_type": "markdown",
   "id": "7460fe9a",
   "metadata": {},
   "source": [
    "#### Order Source Analysis"
   ]
  },
  {
   "cell_type": "code",
   "execution_count": 38,
   "id": "ea87c7b1",
   "metadata": {},
   "outputs": [
    {
     "data": {
      "text/html": [
       "<div>\n",
       "<style scoped>\n",
       "    .dataframe tbody tr th:only-of-type {\n",
       "        vertical-align: middle;\n",
       "    }\n",
       "\n",
       "    .dataframe tbody tr th {\n",
       "        vertical-align: top;\n",
       "    }\n",
       "\n",
       "    .dataframe thead th {\n",
       "        text-align: right;\n",
       "    }\n",
       "</style>\n",
       "<table border=\"1\" class=\"dataframe\">\n",
       "  <thead>\n",
       "    <tr style=\"text-align: right;\">\n",
       "      <th></th>\n",
       "      <th></th>\n",
       "      <th>order_id</th>\n",
       "      <th>price</th>\n",
       "    </tr>\n",
       "    <tr>\n",
       "      <th>order_source</th>\n",
       "      <th>order_status</th>\n",
       "      <th></th>\n",
       "      <th></th>\n",
       "    </tr>\n",
       "  </thead>\n",
       "  <tbody>\n",
       "    <tr>\n",
       "      <th rowspan=\"2\" valign=\"top\">mobile_app</th>\n",
       "      <th>approved</th>\n",
       "      <td>663</td>\n",
       "      <td>54,318</td>\n",
       "    </tr>\n",
       "    <tr>\n",
       "      <th>chargeback</th>\n",
       "      <td>11</td>\n",
       "      <td>756</td>\n",
       "    </tr>\n",
       "    <tr>\n",
       "      <th rowspan=\"2\" valign=\"top\">web</th>\n",
       "      <th>approved</th>\n",
       "      <td>39,802</td>\n",
       "      <td>16,068,402</td>\n",
       "    </tr>\n",
       "    <tr>\n",
       "      <th>chargeback</th>\n",
       "      <td>349</td>\n",
       "      <td>47,882</td>\n",
       "    </tr>\n",
       "  </tbody>\n",
       "</table>\n",
       "</div>"
      ],
      "text/plain": [
       "                          order_id       price\n",
       "order_source order_status                     \n",
       "mobile_app   approved          663      54,318\n",
       "             chargeback         11         756\n",
       "web          approved       39,802  16,068,402\n",
       "             chargeback        349      47,882"
      ]
     },
     "execution_count": 38,
     "metadata": {},
     "output_type": "execute_result"
    }
   ],
   "source": [
    "# group order_source and order_status, aggregate count of orders and sum of price for each catagory of grouped cols\n",
    "order_source_group = df.groupby(['order_source', 'order_status']).agg({'order_id': 'count', 'price': 'sum'}, margins = True)\n",
    "\n",
    "# format for large numbers\n",
    "order_source_group =order_source_group.applymap('{:,.0f}'.format)\n",
    "\n",
    "#display grouping \n",
    "order_source_group"
   ]
  },
  {
   "cell_type": "markdown",
   "id": "0e15450b",
   "metadata": {},
   "source": [
    "### observation \n",
    "- 98% orders via web\n",
    "- 99.7% of sales via web\n",
    "- 98.4% of chargeback **costs** are from web\n",
    "- higher proportion of mobile sales result in chargebacks"
   ]
  },
  {
   "cell_type": "markdown",
   "id": "49e87fce",
   "metadata": {},
   "source": [
    "#### Time Series "
   ]
  },
  {
   "cell_type": "code",
   "execution_count": 39,
   "id": "b0621ce0",
   "metadata": {
    "collapsed": true
   },
   "outputs": [
    {
     "data": {
      "text/plain": [
       "['2019-06-01',\n",
       " '2019-06-02',\n",
       " '2019-06-03',\n",
       " '2019-06-04',\n",
       " '2019-06-05',\n",
       " '2019-06-06',\n",
       " '2019-06-07',\n",
       " '2019-06-08',\n",
       " '2019-06-09',\n",
       " '2019-06-10',\n",
       " '2019-06-11',\n",
       " '2019-06-12',\n",
       " '2019-06-13',\n",
       " '2019-06-14',\n",
       " '2019-06-15',\n",
       " '2019-06-16',\n",
       " '2019-06-17',\n",
       " '2019-06-18',\n",
       " '2019-06-19',\n",
       " '2019-06-20',\n",
       " '2019-06-21',\n",
       " '2019-06-22',\n",
       " '2019-06-23',\n",
       " '2019-06-24',\n",
       " '2019-06-25',\n",
       " '2019-06-26',\n",
       " '2019-06-27',\n",
       " '2019-06-28',\n",
       " '2019-06-29',\n",
       " '2019-06-30',\n",
       " '2019-07-01']"
      ]
     },
     "execution_count": 39,
     "metadata": {},
     "output_type": "execute_result"
    }
   ],
   "source": [
    "df.order_date.unique().tolist()"
   ]
  },
  {
   "cell_type": "markdown",
   "id": "285e10cc",
   "metadata": {},
   "source": [
    "* order_date: 6/1/19 - 7/1/19"
   ]
  },
  {
   "cell_type": "markdown",
   "id": "1cb950cd",
   "metadata": {},
   "source": [
    "##### Count Events in Time Series"
   ]
  },
  {
   "cell_type": "markdown",
   "id": "39f13913",
   "metadata": {},
   "source": [
    "###### Chargeback Count Analysis for the Whole Time Series"
   ]
  },
  {
   "cell_type": "code",
   "execution_count": 40,
   "id": "2663e022",
   "metadata": {},
   "outputs": [
    {
     "data": {
      "image/png": "[encoded data removed]",
      "text/plain": [
       "<Figure size 864x144 with 1 Axes>"
      ]
     },
     "metadata": {
      "needs_background": "light"
     },
     "output_type": "display_data"
    }
   ],
   "source": [
    "# create df with only chargeback orders\n",
    "chargebacks_df = df[df['order_status'] == 'chargeback']\n",
    "\n",
    "# group by order date and status, count orders\n",
    "CHB_count_by_date = chargebacks_df.groupby(['order_date', 'order_status']).size().reset_index(name='count')\n",
    "\n",
    "# reset index, pivot table on status to create columns chargeback counts\n",
    "CHB_count_pivot = CHB_count_by_date.pivot(index='order_date', columns='order_status', values='count')\n",
    "\n",
    "# create line plot\n",
    "fig, ax = plt.subplots(figsize=(12, 2))\n",
    "CHB_count_pivot.plot(ax=ax)\n",
    "\n",
    "# add title and labels\n",
    "plt.title('Count Chargeback Orders - By Date')\n",
    "plt.xlabel('Date Ordered')\n",
    "plt.ylabel('Number of Chargeback Orders')\n",
    "\n",
    "# show the plot\n",
    "plt.show()\n"
   ]
  },
  {
   "cell_type": "code",
   "execution_count": 41,
   "id": "343829c3",
   "metadata": {},
   "outputs": [
    {
     "name": "stdout",
     "output_type": "stream",
     "text": [
      "max: order_date      2019-07-01\n",
      "order_status    chargeback\n",
      "count                   19\n",
      "dtype: object\n",
      "min: order_date      2019-06-01\n",
      "order_status    chargeback\n",
      "count                    4\n",
      "dtype: object\n",
      "\n",
      "mean count    11.612903\n",
      "dtype: float64\n",
      "\n",
      "median count    11.0\n",
      "dtype: float64\n"
     ]
    }
   ],
   "source": [
    "print('max:',CHB_count_by_date.max())\n",
    "print('min:',CHB_count_by_date.min())\n",
    "print('\\nmean', CHB_count_by_date.mean())\n",
    "print('\\nmedian', CHB_count_by_date.median())"
   ]
  },
  {
   "cell_type": "markdown",
   "id": "decfd005",
   "metadata": {},
   "source": [
    "**Notes: Time Series - Count of Events**\n",
    "- count of chargeback events flucates between 4 and 19 per day\n",
    "- mean count of chargeback event of 11.6\n",
    "- median count of chargeback events of 11\n",
    "- no room for interpretation of seasonality in this one month time series"
   ]
  },
  {
   "cell_type": "markdown",
   "id": "195e7bf7",
   "metadata": {},
   "source": [
    "##### Sum Price of Chargebacks  By Date"
   ]
  },
  {
   "cell_type": "code",
   "execution_count": 42,
   "id": "2ac43f01",
   "metadata": {},
   "outputs": [
    {
     "data": {
      "image/png": "[encoded data removed]",
      "text/plain": [
       "<Figure size 864x144 with 1 Axes>"
      ]
     },
     "metadata": {
      "needs_background": "light"
     },
     "output_type": "display_data"
    }
   ],
   "source": [
    "# group by date_ordered and sum the price of orders\n",
    "sum_by_date = chargebacks_df.groupby('order_date')['price'].sum().reset_index(name='sum_price')\n",
    "\n",
    "# set date_ordered as the index\n",
    "sum_by_date.set_index('order_date', inplace=True)\n",
    "\n",
    "# create a line plot\n",
    "fig, ax = plt.subplots(figsize=(12, 2))\n",
    "sum_by_date.plot(ax=ax)\n",
    "\n",
    "# add title and labels\n",
    "plt.title('Sum Chargeback Orders by Date')\n",
    "plt.xlabel('Date Ordered')\n",
    "plt.ylabel('Sum of Prices')\n",
    "\n",
    "# show the plot\n",
    "plt.show()\n"
   ]
  },
  {
   "cell_type": "code",
   "execution_count": 43,
   "id": "bb7d494e",
   "metadata": {},
   "outputs": [
    {
     "name": "stdout",
     "output_type": "stream",
     "text": [
      "Maximum sum of price by date: $3,175\n",
      "Minimum sum of price by date: $527\n",
      "Mean sum of price by date: $1,569\n",
      "Median sum of price by date: $1,451\n"
     ]
    }
   ],
   "source": [
    "maximum_price_by_date = sum_by_date['sum_price'].max()\n",
    "minimum_price_by_date = sum_by_date['sum_price'].min()\n",
    "mean_price_by_date = sum_by_date['sum_price'].mean()\n",
    "median_price_by_date = sum_by_date['sum_price'].median()\n",
    "\n",
    "print('Maximum sum of price by date: ${:,.0f}'.format(maximum_price_by_date))\n",
    "print('Minimum sum of price by date: ${:,.0f}'.format(minimum_price_by_date))\n",
    "print('Mean sum of price by date: ${:,.0f}'.format(mean_price_by_date))\n",
    "print('Median sum of price by date: ${:,.0f}'.format(median_price_by_date))"
   ]
  },
  {
   "cell_type": "code",
   "execution_count": 44,
   "id": "2f73bc94",
   "metadata": {},
   "outputs": [
    {
     "data": {
      "text/html": [
       "<div>\n",
       "<style scoped>\n",
       "    .dataframe tbody tr th:only-of-type {\n",
       "        vertical-align: middle;\n",
       "    }\n",
       "\n",
       "    .dataframe tbody tr th {\n",
       "        vertical-align: top;\n",
       "    }\n",
       "\n",
       "    .dataframe thead tr th {\n",
       "        text-align: left;\n",
       "    }\n",
       "\n",
       "    .dataframe thead tr:last-of-type th {\n",
       "        text-align: right;\n",
       "    }\n",
       "</style>\n",
       "<table border=\"1\" class=\"dataframe\">\n",
       "  <thead>\n",
       "    <tr>\n",
       "      <th></th>\n",
       "      <th>price</th>\n",
       "      <th>order_id</th>\n",
       "    </tr>\n",
       "    <tr>\n",
       "      <th>order_status</th>\n",
       "      <th>chargeback</th>\n",
       "      <th>chargeback</th>\n",
       "    </tr>\n",
       "    <tr>\n",
       "      <th>order_date</th>\n",
       "      <th></th>\n",
       "      <th></th>\n",
       "    </tr>\n",
       "  </thead>\n",
       "  <tbody>\n",
       "    <tr>\n",
       "      <th>2019-06-01</th>\n",
       "      <td>1425.76</td>\n",
       "      <td>14</td>\n",
       "    </tr>\n",
       "    <tr>\n",
       "      <th>2019-06-02</th>\n",
       "      <td>526.90</td>\n",
       "      <td>4</td>\n",
       "    </tr>\n",
       "    <tr>\n",
       "      <th>2019-06-03</th>\n",
       "      <td>805.84</td>\n",
       "      <td>8</td>\n",
       "    </tr>\n",
       "    <tr>\n",
       "      <th>2019-06-04</th>\n",
       "      <td>1591.49</td>\n",
       "      <td>9</td>\n",
       "    </tr>\n",
       "    <tr>\n",
       "      <th>2019-06-05</th>\n",
       "      <td>1470.56</td>\n",
       "      <td>11</td>\n",
       "    </tr>\n",
       "    <tr>\n",
       "      <th>2019-06-06</th>\n",
       "      <td>2618.37</td>\n",
       "      <td>12</td>\n",
       "    </tr>\n",
       "    <tr>\n",
       "      <th>2019-06-07</th>\n",
       "      <td>2438.15</td>\n",
       "      <td>15</td>\n",
       "    </tr>\n",
       "    <tr>\n",
       "      <th>2019-06-08</th>\n",
       "      <td>1320.39</td>\n",
       "      <td>13</td>\n",
       "    </tr>\n",
       "    <tr>\n",
       "      <th>2019-06-09</th>\n",
       "      <td>1450.62</td>\n",
       "      <td>6</td>\n",
       "    </tr>\n",
       "    <tr>\n",
       "      <th>2019-06-10</th>\n",
       "      <td>1581.70</td>\n",
       "      <td>11</td>\n",
       "    </tr>\n",
       "    <tr>\n",
       "      <th>2019-06-11</th>\n",
       "      <td>1000.12</td>\n",
       "      <td>5</td>\n",
       "    </tr>\n",
       "    <tr>\n",
       "      <th>2019-06-12</th>\n",
       "      <td>1761.85</td>\n",
       "      <td>8</td>\n",
       "    </tr>\n",
       "    <tr>\n",
       "      <th>2019-06-13</th>\n",
       "      <td>2195.68</td>\n",
       "      <td>11</td>\n",
       "    </tr>\n",
       "    <tr>\n",
       "      <th>2019-06-14</th>\n",
       "      <td>1304.64</td>\n",
       "      <td>12</td>\n",
       "    </tr>\n",
       "    <tr>\n",
       "      <th>2019-06-15</th>\n",
       "      <td>2665.42</td>\n",
       "      <td>14</td>\n",
       "    </tr>\n",
       "    <tr>\n",
       "      <th>2019-06-16</th>\n",
       "      <td>2152.52</td>\n",
       "      <td>19</td>\n",
       "    </tr>\n",
       "    <tr>\n",
       "      <th>2019-06-17</th>\n",
       "      <td>2470.37</td>\n",
       "      <td>19</td>\n",
       "    </tr>\n",
       "    <tr>\n",
       "      <th>2019-06-18</th>\n",
       "      <td>1365.78</td>\n",
       "      <td>11</td>\n",
       "    </tr>\n",
       "    <tr>\n",
       "      <th>2019-06-19</th>\n",
       "      <td>1153.15</td>\n",
       "      <td>12</td>\n",
       "    </tr>\n",
       "    <tr>\n",
       "      <th>2019-06-20</th>\n",
       "      <td>606.66</td>\n",
       "      <td>6</td>\n",
       "    </tr>\n",
       "    <tr>\n",
       "      <th>2019-06-21</th>\n",
       "      <td>762.68</td>\n",
       "      <td>9</td>\n",
       "    </tr>\n",
       "    <tr>\n",
       "      <th>2019-06-22</th>\n",
       "      <td>585.55</td>\n",
       "      <td>11</td>\n",
       "    </tr>\n",
       "    <tr>\n",
       "      <th>2019-06-23</th>\n",
       "      <td>767.47</td>\n",
       "      <td>13</td>\n",
       "    </tr>\n",
       "    <tr>\n",
       "      <th>2019-06-24</th>\n",
       "      <td>1229.56</td>\n",
       "      <td>10</td>\n",
       "    </tr>\n",
       "    <tr>\n",
       "      <th>2019-06-25</th>\n",
       "      <td>1036.69</td>\n",
       "      <td>9</td>\n",
       "    </tr>\n",
       "    <tr>\n",
       "      <th>2019-06-26</th>\n",
       "      <td>2027.76</td>\n",
       "      <td>15</td>\n",
       "    </tr>\n",
       "    <tr>\n",
       "      <th>2019-06-27</th>\n",
       "      <td>3175.35</td>\n",
       "      <td>18</td>\n",
       "    </tr>\n",
       "    <tr>\n",
       "      <th>2019-06-28</th>\n",
       "      <td>2061.90</td>\n",
       "      <td>17</td>\n",
       "    </tr>\n",
       "    <tr>\n",
       "      <th>2019-06-29</th>\n",
       "      <td>1882.09</td>\n",
       "      <td>11</td>\n",
       "    </tr>\n",
       "    <tr>\n",
       "      <th>2019-06-30</th>\n",
       "      <td>908.80</td>\n",
       "      <td>8</td>\n",
       "    </tr>\n",
       "    <tr>\n",
       "      <th>2019-07-01</th>\n",
       "      <td>2293.30</td>\n",
       "      <td>19</td>\n",
       "    </tr>\n",
       "  </tbody>\n",
       "</table>\n",
       "</div>"
      ],
      "text/plain": [
       "                  price   order_id\n",
       "order_status chargeback chargeback\n",
       "order_date                        \n",
       "2019-06-01      1425.76         14\n",
       "2019-06-02       526.90          4\n",
       "2019-06-03       805.84          8\n",
       "2019-06-04      1591.49          9\n",
       "2019-06-05      1470.56         11\n",
       "2019-06-06      2618.37         12\n",
       "2019-06-07      2438.15         15\n",
       "2019-06-08      1320.39         13\n",
       "2019-06-09      1450.62          6\n",
       "2019-06-10      1581.70         11\n",
       "2019-06-11      1000.12          5\n",
       "2019-06-12      1761.85          8\n",
       "2019-06-13      2195.68         11\n",
       "2019-06-14      1304.64         12\n",
       "2019-06-15      2665.42         14\n",
       "2019-06-16      2152.52         19\n",
       "2019-06-17      2470.37         19\n",
       "2019-06-18      1365.78         11\n",
       "2019-06-19      1153.15         12\n",
       "2019-06-20       606.66          6\n",
       "2019-06-21       762.68          9\n",
       "2019-06-22       585.55         11\n",
       "2019-06-23       767.47         13\n",
       "2019-06-24      1229.56         10\n",
       "2019-06-25      1036.69          9\n",
       "2019-06-26      2027.76         15\n",
       "2019-06-27      3175.35         18\n",
       "2019-06-28      2061.90         17\n",
       "2019-06-29      1882.09         11\n",
       "2019-06-30       908.80          8\n",
       "2019-07-01      2293.30         19"
      ]
     },
     "execution_count": 44,
     "metadata": {},
     "output_type": "execute_result"
    }
   ],
   "source": [
    "# group by date and status, sum of price, count number of orders\n",
    "agg_by_date = chargebacks_df.groupby(['order_date', 'order_status']).agg({'price': 'sum', 'order_id': 'count'}).reset_index()\n",
    "\n",
    "# pivot table to set columns for price sum and oder count and reset index\n",
    "time_price_count = agg_by_date.pivot(index='order_date', columns='order_status')\n",
    "\n",
    "time_price_count "
   ]
  },
  {
   "cell_type": "markdown",
   "id": "b0ccc82f",
   "metadata": {},
   "source": [
    "##### Analysis of Chargebacks by Day of Week "
   ]
  },
  {
   "cell_type": "markdown",
   "id": "d54cc587",
   "metadata": {},
   "source": [
    "###### Count of Chargeback Events by Day of Week "
   ]
  },
  {
   "cell_type": "code",
   "execution_count": 45,
   "id": "2e0df3ff",
   "metadata": {},
   "outputs": [
    {
     "data": {
      "image/png": "[encoded data removed]",
      "text/plain": [
       "<Figure size 864x144 with 1 Axes>"
      ]
     },
     "metadata": {
      "needs_background": "light"
     },
     "output_type": "display_data"
    }
   ],
   "source": [
    "# copy \n",
    "chargebacks_df_datetime = chargebacks_df.copy()\n",
    "\n",
    "# convert order_date to datetime type \n",
    "chargebacks_df_datetime['order_date'] = pd.to_datetime(chargebacks_df_datetime['order_date'])\n",
    "\n",
    "# group by weekday of order date and status, count orders\n",
    "CHB_count_by_weekday = chargebacks_df_datetime.groupby([chargebacks_df_datetime['order_date'].dt.weekday, 'order_status']).size().reset_index(name='count')\n",
    "\n",
    "# reset index, pivot table on status to create columns for approved/chargeback counts\n",
    "CHB_count_pivot_weekday = CHB_count_by_weekday.pivot(index='order_date', columns='order_status', values='count')\n",
    "\n",
    "# create a bar chart, set x axis to days of week \n",
    "ax = CHB_count_pivot_weekday.plot(kind='bar', figsize=(12, 2), color='magenta').set_xticklabels(['Sunday', 'Monday', 'Tuesday', 'Wednesday', 'Thursday', 'Friday', 'Saturday'])\n",
    "\n",
    "# labels\n",
    "plt.title('Chargeback Orders - Count by Day of Week')\n",
    "plt.xlabel('')\n",
    "plt.ylabel('Count Chargeback Orders')\n",
    "plt.show()\n"
   ]
  },
  {
   "cell_type": "code",
   "execution_count": 46,
   "id": "1e7b1d3a",
   "metadata": {},
   "outputs": [
    {
     "data": {
      "text/html": [
       "<div>\n",
       "<style scoped>\n",
       "    .dataframe tbody tr th:only-of-type {\n",
       "        vertical-align: middle;\n",
       "    }\n",
       "\n",
       "    .dataframe tbody tr th {\n",
       "        vertical-align: top;\n",
       "    }\n",
       "\n",
       "    .dataframe thead th {\n",
       "        text-align: right;\n",
       "    }\n",
       "</style>\n",
       "<table border=\"1\" class=\"dataframe\">\n",
       "  <thead>\n",
       "    <tr style=\"text-align: right;\">\n",
       "      <th>order_status</th>\n",
       "      <th>chargeback</th>\n",
       "    </tr>\n",
       "    <tr>\n",
       "      <th>order_date</th>\n",
       "      <th></th>\n",
       "    </tr>\n",
       "  </thead>\n",
       "  <tbody>\n",
       "    <tr>\n",
       "      <th>0</th>\n",
       "      <td>67</td>\n",
       "    </tr>\n",
       "    <tr>\n",
       "      <th>1</th>\n",
       "      <td>34</td>\n",
       "    </tr>\n",
       "    <tr>\n",
       "      <th>2</th>\n",
       "      <td>46</td>\n",
       "    </tr>\n",
       "    <tr>\n",
       "      <th>3</th>\n",
       "      <td>47</td>\n",
       "    </tr>\n",
       "    <tr>\n",
       "      <th>4</th>\n",
       "      <td>53</td>\n",
       "    </tr>\n",
       "    <tr>\n",
       "      <th>5</th>\n",
       "      <td>63</td>\n",
       "    </tr>\n",
       "    <tr>\n",
       "      <th>6</th>\n",
       "      <td>50</td>\n",
       "    </tr>\n",
       "  </tbody>\n",
       "</table>\n",
       "</div>"
      ],
      "text/plain": [
       "order_status  chargeback\n",
       "order_date              \n",
       "0                     67\n",
       "1                     34\n",
       "2                     46\n",
       "3                     47\n",
       "4                     53\n",
       "5                     63\n",
       "6                     50"
      ]
     },
     "execution_count": 46,
     "metadata": {},
     "output_type": "execute_result"
    }
   ],
   "source": [
    "CHB_count_pivot_weekday"
   ]
  },
  {
   "cell_type": "markdown",
   "id": "bc3e5e46",
   "metadata": {},
   "source": [
    "###### Count of Events by Day of Week "
   ]
  },
  {
   "cell_type": "code",
   "execution_count": 52,
   "id": "6087dc9f",
   "metadata": {},
   "outputs": [
    {
     "data": {
      "image/png": "[encoded data removed]",
      "text/plain": [
       "<Figure size 864x144 with 1 Axes>"
      ]
     },
     "metadata": {
      "needs_background": "light"
     },
     "output_type": "display_data"
    }
   ],
   "source": [
    "# group by weekday of order date and sum prices\n",
    "sum_by_weekday = chargebacks_df_datetime.groupby(chargebacks_df_datetime['order_date'].dt.weekday)['price'].sum()\n",
    "\n",
    "\n",
    "# create a magenta bar chart\n",
    "fig, ax = plt.subplots(figsize=(12, 2))\n",
    "sum_by_weekday.plot(kind='bar', color='magenta', ax=ax).set_xticklabels(['Sunday', 'Monday', 'Tuesday', 'Wednesday', 'Thursday', 'Friday', 'Saturday'])\n",
    "\n",
    "# labels\n",
    "plt.title('Sum (Price) of Chargeback Orders - by Day of Week')\n",
    "plt.xlabel('')\n",
    "plt.ylabel('Sum (Price)')\n",
    "\n",
    "# show the plot\n",
    "plt.show()"
   ]
  },
  {
   "cell_type": "code",
   "execution_count": 53,
   "id": "ccb065cc",
   "metadata": {},
   "outputs": [
    {
     "data": {
      "image/png": "[encoded data removed]",
      "text/plain": [
       "<Figure size 864x144 with 1 Axes>"
      ]
     },
     "metadata": {
      "needs_background": "light"
     },
     "output_type": "display_data"
    }
   ],
   "source": [
    "# Group by weekday of order date and sum prices\n",
    "sum_by_weekday = chargebacks_df_datetime.groupby(chargebacks_df_datetime['order_date'].dt.weekday)['price'].sum()\n",
    "\n",
    "# Create a magenta bar chart\n",
    "fig, ax = plt.subplots(figsize=(12, 2))\n",
    "sum_by_weekday.plot(kind='bar', color='magenta', ax=ax).set_xticklabels(['Sunday', 'Monday', 'Tuesday', 'Wednesday', 'Thursday', 'Friday', 'Saturday'])\n",
    "\n",
    "# Add labels to the chart\n",
    "ax.set_title('Sum (Price) of Chargeback Orders - by Day of Week')\n",
    "ax.set_xlabel('Day of Week')\n",
    "ax.set_ylabel('Sum (Price)')\n",
    "\n",
    "# Show the plot\n",
    "plt.show()\n"
   ]
  },
  {
   "cell_type": "code",
   "execution_count": 54,
   "id": "934e31b9",
   "metadata": {},
   "outputs": [
    {
     "data": {
      "text/html": [
       "<div>\n",
       "<style scoped>\n",
       "    .dataframe tbody tr th:only-of-type {\n",
       "        vertical-align: middle;\n",
       "    }\n",
       "\n",
       "    .dataframe tbody tr th {\n",
       "        vertical-align: top;\n",
       "    }\n",
       "\n",
       "    .dataframe thead th {\n",
       "        text-align: right;\n",
       "    }\n",
       "</style>\n",
       "<table border=\"1\" class=\"dataframe\">\n",
       "  <thead>\n",
       "    <tr style=\"text-align: right;\">\n",
       "      <th></th>\n",
       "      <th>price</th>\n",
       "    </tr>\n",
       "    <tr>\n",
       "      <th>order_date</th>\n",
       "      <th></th>\n",
       "    </tr>\n",
       "  </thead>\n",
       "  <tbody>\n",
       "    <tr>\n",
       "      <th>0</th>\n",
       "      <td>8380.77</td>\n",
       "    </tr>\n",
       "    <tr>\n",
       "      <th>1</th>\n",
       "      <td>4994.08</td>\n",
       "    </tr>\n",
       "    <tr>\n",
       "      <th>2</th>\n",
       "      <td>6413.32</td>\n",
       "    </tr>\n",
       "    <tr>\n",
       "      <th>3</th>\n",
       "      <td>8596.06</td>\n",
       "    </tr>\n",
       "    <tr>\n",
       "      <th>4</th>\n",
       "      <td>6567.37</td>\n",
       "    </tr>\n",
       "    <tr>\n",
       "      <th>5</th>\n",
       "      <td>7879.21</td>\n",
       "    </tr>\n",
       "    <tr>\n",
       "      <th>6</th>\n",
       "      <td>5806.31</td>\n",
       "    </tr>\n",
       "  </tbody>\n",
       "</table>\n",
       "</div>"
      ],
      "text/plain": [
       "              price\n",
       "order_date         \n",
       "0           8380.77\n",
       "1           4994.08\n",
       "2           6413.32\n",
       "3           8596.06\n",
       "4           6567.37\n",
       "5           7879.21\n",
       "6           5806.31"
      ]
     },
     "execution_count": 54,
     "metadata": {},
     "output_type": "execute_result"
    }
   ],
   "source": [
    "sum_by_weekday.to_frame()"
   ]
  },
  {
   "cell_type": "code",
   "execution_count": 62,
   "id": "9b298df0",
   "metadata": {},
   "outputs": [
    {
     "data": {
      "text/html": [
       "<div>\n",
       "<style scoped>\n",
       "    .dataframe tbody tr th:only-of-type {\n",
       "        vertical-align: middle;\n",
       "    }\n",
       "\n",
       "    .dataframe tbody tr th {\n",
       "        vertical-align: top;\n",
       "    }\n",
       "\n",
       "    .dataframe thead th {\n",
       "        text-align: right;\n",
       "    }\n",
       "</style>\n",
       "<table border=\"1\" class=\"dataframe\">\n",
       "  <thead>\n",
       "    <tr style=\"text-align: right;\">\n",
       "      <th></th>\n",
       "      <th>price</th>\n",
       "    </tr>\n",
       "  </thead>\n",
       "  <tbody>\n",
       "    <tr>\n",
       "      <th>count</th>\n",
       "      <td>7.000000</td>\n",
       "    </tr>\n",
       "    <tr>\n",
       "      <th>mean</th>\n",
       "      <td>6948.160000</td>\n",
       "    </tr>\n",
       "    <tr>\n",
       "      <th>std</th>\n",
       "      <td>1365.534379</td>\n",
       "    </tr>\n",
       "    <tr>\n",
       "      <th>min</th>\n",
       "      <td>4994.080000</td>\n",
       "    </tr>\n",
       "    <tr>\n",
       "      <th>25%</th>\n",
       "      <td>6109.815000</td>\n",
       "    </tr>\n",
       "    <tr>\n",
       "      <th>50%</th>\n",
       "      <td>6567.370000</td>\n",
       "    </tr>\n",
       "    <tr>\n",
       "      <th>75%</th>\n",
       "      <td>8129.990000</td>\n",
       "    </tr>\n",
       "    <tr>\n",
       "      <th>max</th>\n",
       "      <td>8596.060000</td>\n",
       "    </tr>\n",
       "  </tbody>\n",
       "</table>\n",
       "</div>"
      ],
      "text/plain": [
       "             price\n",
       "count     7.000000\n",
       "mean   6948.160000\n",
       "std    1365.534379\n",
       "min    4994.080000\n",
       "25%    6109.815000\n",
       "50%    6567.370000\n",
       "75%    8129.990000\n",
       "max    8596.060000"
      ]
     },
     "execution_count": 62,
     "metadata": {},
     "output_type": "execute_result"
    }
   ],
   "source": [
    "price_summary = sum_by_weekday.describe().to_frame()\n",
    "price_summary"
   ]
  },
  {
   "cell_type": "code",
   "execution_count": 57,
   "id": "2346ca98",
   "metadata": {},
   "outputs": [
    {
     "name": "stdout",
     "output_type": "stream",
     "text": [
      "Maximum sum of price by day of week: $8,596\n",
      "Minimum sum of price by day of week: $4,994\n",
      "Mean sum of price by day of week: $6,948\n",
      "Median sum of price by day of week: $6,567\n"
     ]
    }
   ],
   "source": [
    "maximum_price_by_weekday = sum_by_weekday.max()\n",
    "minimum_price_by_weekday = sum_by_weekday.min()\n",
    "mean_price_by_weekday = sum_by_weekday.mean()\n",
    "median_price_by_weekday = sum_by_weekday.median()\n",
    "\n",
    "print('Maximum sum of price by day of week: ${:,.0f}'.format(maximum_price_by_weekday))\n",
    "print('Minimum sum of price by day of week: ${:,.0f}'.format(minimum_price_by_weekday))\n",
    "print('Mean sum of price by day of week: ${:,.0f}'.format(mean_price_by_weekday))\n",
    "print('Median sum of price by day of week: ${:,.0f}'.format(median_price_by_weekday))"
   ]
  },
  {
   "cell_type": "code",
   "execution_count": 59,
   "id": "037fb2cd",
   "metadata": {},
   "outputs": [
    {
     "data": {
      "text/html": [
       "<div>\n",
       "<style scoped>\n",
       "    .dataframe tbody tr th:only-of-type {\n",
       "        vertical-align: middle;\n",
       "    }\n",
       "\n",
       "    .dataframe tbody tr th {\n",
       "        vertical-align: top;\n",
       "    }\n",
       "\n",
       "    .dataframe thead th {\n",
       "        text-align: right;\n",
       "    }\n",
       "</style>\n",
       "<table border=\"1\" class=\"dataframe\">\n",
       "  <thead>\n",
       "    <tr style=\"text-align: right;\">\n",
       "      <th></th>\n",
       "      <th>price</th>\n",
       "    </tr>\n",
       "  </thead>\n",
       "  <tbody>\n",
       "    <tr>\n",
       "      <th>count</th>\n",
       "      <td>7.000000</td>\n",
       "    </tr>\n",
       "    <tr>\n",
       "      <th>mean</th>\n",
       "      <td>6948.160000</td>\n",
       "    </tr>\n",
       "    <tr>\n",
       "      <th>std</th>\n",
       "      <td>1365.534379</td>\n",
       "    </tr>\n",
       "    <tr>\n",
       "      <th>min</th>\n",
       "      <td>4994.080000</td>\n",
       "    </tr>\n",
       "    <tr>\n",
       "      <th>25%</th>\n",
       "      <td>6109.815000</td>\n",
       "    </tr>\n",
       "    <tr>\n",
       "      <th>50%</th>\n",
       "      <td>6567.370000</td>\n",
       "    </tr>\n",
       "    <tr>\n",
       "      <th>75%</th>\n",
       "      <td>8129.990000</td>\n",
       "    </tr>\n",
       "    <tr>\n",
       "      <th>max</th>\n",
       "      <td>8596.060000</td>\n",
       "    </tr>\n",
       "  </tbody>\n",
       "</table>\n",
       "</div>"
      ],
      "text/plain": [
       "             price\n",
       "count     7.000000\n",
       "mean   6948.160000\n",
       "std    1365.534379\n",
       "min    4994.080000\n",
       "25%    6109.815000\n",
       "50%    6567.370000\n",
       "75%    8129.990000\n",
       "max    8596.060000"
      ]
     },
     "execution_count": 59,
     "metadata": {},
     "output_type": "execute_result"
    }
   ],
   "source": [
    "price_summary = sum_by_weekday.describe().to_frame()\n",
    "price_summary"
   ]
  },
  {
   "cell_type": "code",
   "execution_count": 63,
   "id": "243931d0",
   "metadata": {},
   "outputs": [
    {
     "data": {
      "text/plain": [
       "4053"
      ]
     },
     "execution_count": 63,
     "metadata": {},
     "output_type": "execute_result"
    }
   ],
   "source": [
    "df.customer_account_age.nunique()"
   ]
  },
  {
   "cell_type": "code",
   "execution_count": 64,
   "id": "814b6396",
   "metadata": {},
   "outputs": [
    {
     "data": {
      "image/png": "[encoded data removed]",
      "text/plain": [
       "<Figure size 432x288 with 1 Axes>"
      ]
     },
     "metadata": {
      "needs_background": "light"
     },
     "output_type": "display_data"
    }
   ],
   "source": [
    "# explore relationship bet classifcation score and account age \n",
    "df.plot.scatter(x='customer_account_age', y='classification_score')\n",
    "plt.title('Customer age and Classification Score')\n",
    "plt.show()"
   ]
  },
  {
   "cell_type": "code",
   "execution_count": 66,
   "id": "ef7092b9",
   "metadata": {},
   "outputs": [
    {
     "data": {
      "image/png": "[encoded data removed]",
      "text/plain": [
       "<Figure size 432x288 with 1 Axes>"
      ]
     },
     "metadata": {
      "needs_background": "light"
     },
     "output_type": "display_data"
    }
   ],
   "source": [
    "# create a scatterplot of price by customer_age_years\n",
    "sns.scatterplot(data=df, x='customer_account_age', y='price')\n",
    "plt.title('customer account age v price')\n",
    "plt.show()\n"
   ]
  },
  {
   "cell_type": "markdown",
   "id": "59ffb2a3",
   "metadata": {},
   "source": [
    "### NEXT STEPS\n",
    "- learn more about the model \n",
    "- one hot encode and run correlations against score to identify which features are more closely correlated with score.\n",
    "- create groupings for account_age and price and explore risk\n"
   ]
  },
  {
   "cell_type": "code",
   "execution_count": null,
   "id": "3ec9ddbf",
   "metadata": {},
   "outputs": [],
   "source": [
    "\n",
    "\n",
    "\n",
    "\n",
    "\n"
   ]
  },
  {
   "cell_type": "code",
   "execution_count": null,
   "id": "ad1f6726",
   "metadata": {},
   "outputs": [],
   "source": []
  }
 ],
 "metadata": {
  "kernelspec": {
   "display_name": "Python 3",
   "language": "python",
   "name": "python3"
  },
  "language_info": {
   "codemirror_mode": {
    "name": "ipython",
    "version": 3
   },
   "file_extension": ".py",
   "mimetype": "text/x-python",
   "name": "python",
   "nbconvert_exporter": "python",
   "pygments_lexer": "ipython3",
   "version": "3.8.8"
  }
 },
 "nbformat": 4,
 "nbformat_minor": 5
}
